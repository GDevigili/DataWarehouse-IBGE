{
 "cells": [
  {
   "cell_type": "code",
   "execution_count": 1,
   "metadata": {},
   "outputs": [],
   "source": [
    "import requests\r\n",
    "import json\r\n",
    "import sys\r\n",
    "\r\n",
    "sys.path.append('..')\r\n",
    "\r\n",
    "# Data Manipulation\r\n",
    "import pandas as pd\r\n",
    "\r\n",
    "from utils import *"
   ]
  },
  {
   "cell_type": "markdown",
   "metadata": {},
   "source": [
    "# Produtos"
   ]
  },
  {
   "cell_type": "code",
   "execution_count": 2,
   "metadata": {},
   "outputs": [],
   "source": [
    "url = 'https://servicodados.ibge.gov.br/api/v1/produtos/'\r\n",
    "df_produtos = make_df(get_request_json(url))"
   ]
  },
  {
   "cell_type": "code",
   "execution_count": 3,
   "metadata": {},
   "outputs": [
    {
     "data": {
      "text/html": "<div>\n<style scoped>\n    .dataframe tbody tr th:only-of-type {\n        vertical-align: middle;\n    }\n\n    .dataframe tbody tr th {\n        vertical-align: top;\n    }\n\n    .dataframe thead th {\n        text-align: right;\n    }\n</style>\n<table border=\"1\" class=\"dataframe\">\n  <thead>\n    <tr style=\"text-align: right;\">\n      <th></th>\n      <th>id</th>\n      <th>tipo</th>\n      <th>titulo</th>\n      <th>alias</th>\n      <th>sigla</th>\n      <th>catId</th>\n      <th>catTitle</th>\n      <th>parentCatId</th>\n      <th>parentCatTitle</th>\n      <th>path</th>\n    </tr>\n  </thead>\n  <tbody>\n    <tr>\n      <th>0</th>\n      <td>20700</td>\n      <td>Estatísticas</td>\n      <td>1995-1996#censoagro6</td>\n      <td>1995-1996-censoagro1995</td>\n      <td></td>\n      <td>2017</td>\n      <td>NP-Censo Agropecuário</td>\n      <td>1915</td>\n      <td>NP-Agricultura, pecuária, produção florestal, ...</td>\n      <td>novo-portal/estatisticas/estatisticas-economic...</td>\n    </tr>\n    <tr>\n      <th>1</th>\n      <td>19878</td>\n      <td>Estatísticas</td>\n      <td>1996 #Contagem2</td>\n      <td>1996-contagem2</td>\n      <td></td>\n      <td>2024</td>\n      <td>NP-Contagem da População</td>\n      <td>1938</td>\n      <td>NP-Condições de vida, pobreza e desigualdade</td>\n      <td>novo-portal/estatisticas/estatisticas-multidom...</td>\n    </tr>\n    <tr>\n      <th>2</th>\n      <td>9827</td>\n      <td>Estatísticas</td>\n      <td>2006#censoagro5</td>\n      <td>censo-agropecuario</td>\n      <td></td>\n      <td>2017</td>\n      <td>NP-Censo Agropecuário</td>\n      <td>1915</td>\n      <td>NP-Agricultura, pecuária, produção florestal, ...</td>\n      <td>novo-portal/estatisticas/estatisticas-economic...</td>\n    </tr>\n    <tr>\n      <th>3</th>\n      <td>9065</td>\n      <td>Estatísticas</td>\n      <td>2007 #Contagem1</td>\n      <td>contagem-da-populacao</td>\n      <td></td>\n      <td>2024</td>\n      <td>NP-Contagem da População</td>\n      <td>1938</td>\n      <td>NP-Condições de vida, pobreza e desigualdade</td>\n      <td>novo-portal/estatisticas/estatisticas-multidom...</td>\n    </tr>\n    <tr>\n      <th>4</th>\n      <td>29540</td>\n      <td>Estatísticas</td>\n      <td>2013#Pesquisa Nacional de Saúde</td>\n      <td>2013-pesquisa-nacional-de-saude</td>\n      <td>PNS</td>\n      <td>2061</td>\n      <td>NP-Pesquisa Nacional de Saúde</td>\n      <td>1883</td>\n      <td>NP-Saúde</td>\n      <td>novo-portal/estatisticas/demografia-e-estatist...</td>\n    </tr>\n    <tr>\n      <th>...</th>\n      <td>...</td>\n      <td>...</td>\n      <td>...</td>\n      <td>...</td>\n      <td>...</td>\n      <td>...</td>\n      <td>...</td>\n      <td>...</td>\n      <td>...</td>\n      <td>...</td>\n    </tr>\n    <tr>\n      <th>294</th>\n      <td>10872</td>\n      <td>Geociências</td>\n      <td>Vegetação Brasileira</td>\n      <td>vegetacao</td>\n      <td></td>\n      <td>2296</td>\n      <td>NP-Vegetação Brasileira 1:5.000.000</td>\n      <td>2237</td>\n      <td>NP-Vegetação#recursosnaturais</td>\n      <td>novo-portal/geociencias/np-cartas-e-mapas/np-m...</td>\n    </tr>\n    <tr>\n      <th>295</th>\n      <td>22460</td>\n      <td>Geociências</td>\n      <td>Vegetação por Estado</td>\n      <td>vegetacao-por-estado</td>\n      <td></td>\n      <td>2928</td>\n      <td>NP-Vegetação por Estado</td>\n      <td>2143</td>\n      <td>NP-Informações ambientais #mapasdobrasil</td>\n      <td>novo-portal/geociencias/np-cartas-e-mapas/np-m...</td>\n    </tr>\n    <tr>\n      <th>296</th>\n      <td>15843</td>\n      <td>Geociências</td>\n      <td>Vocabulário Básico de Recursos Naturais e Meio...</td>\n      <td>vocabulario-basico-de-recursos-naturais-e-meio...</td>\n      <td></td>\n      <td>2303</td>\n      <td>NP-Vocabulário Básico de Recursos Naturais e M...</td>\n      <td>2223</td>\n      <td>NP-Estudos ambientais</td>\n      <td>novo-portal/geociencias/np-cartas-e-mapas/np-m...</td>\n    </tr>\n    <tr>\n      <th>297</th>\n      <td>28098</td>\n      <td>Geociências</td>\n      <td>Workshop sobre o Sistema Brasileiro de Classif...</td>\n      <td>workshop-sobre-o-sistema-brasileiro-de-classif...</td>\n      <td></td>\n      <td>2997</td>\n      <td>NP-Workshop sobre o Sistema Brasileiro de Clas...</td>\n      <td>2235</td>\n      <td>NP-Geomorfologia#recursosnaturais</td>\n      <td>novo-portal/geociencias/np-cartas-e-mapas/np-m...</td>\n    </tr>\n    <tr>\n      <th>298</th>\n      <td>31681</td>\n      <td>Geociências</td>\n      <td>Zoneamento Ecológico-Econômico</td>\n      <td>zoneamento-ecologico-economico</td>\n      <td></td>\n      <td>3043</td>\n      <td>NP-Zoneamento Ecológico-Econômico</td>\n      <td>2158</td>\n      <td>NP-Análises do território</td>\n      <td>novo-portal/geociencias/np-informacoes-sobre-o...</td>\n    </tr>\n  </tbody>\n</table>\n<p>299 rows × 10 columns</p>\n</div>",
      "text/plain": "        id          tipo                                             titulo   \n0    20700  Estatísticas                               1995-1996#censoagro6  \\\n1    19878  Estatísticas                                    1996 #Contagem2   \n2     9827  Estatísticas                                    2006#censoagro5   \n3     9065  Estatísticas                                    2007 #Contagem1   \n4    29540  Estatísticas                    2013#Pesquisa Nacional de Saúde   \n..     ...           ...                                                ...   \n294  10872   Geociências                               Vegetação Brasileira   \n295  22460   Geociências                               Vegetação por Estado   \n296  15843   Geociências  Vocabulário Básico de Recursos Naturais e Meio...   \n297  28098   Geociências  Workshop sobre o Sistema Brasileiro de Classif...   \n298  31681   Geociências                     Zoneamento Ecológico-Econômico   \n\n                                                 alias sigla  catId   \n0                              1995-1996-censoagro1995         2017  \\\n1                                       1996-contagem2         2024   \n2                                   censo-agropecuario         2017   \n3                                contagem-da-populacao         2024   \n4                      2013-pesquisa-nacional-de-saude   PNS   2061   \n..                                                 ...   ...    ...   \n294                                          vegetacao         2296   \n295                               vegetacao-por-estado         2928   \n296  vocabulario-basico-de-recursos-naturais-e-meio...         2303   \n297  workshop-sobre-o-sistema-brasileiro-de-classif...         2997   \n298                     zoneamento-ecologico-economico         3043   \n\n                                              catTitle  parentCatId   \n0                                NP-Censo Agropecuário         1915  \\\n1                             NP-Contagem da População         1938   \n2                                NP-Censo Agropecuário         1915   \n3                             NP-Contagem da População         1938   \n4                        NP-Pesquisa Nacional de Saúde         1883   \n..                                                 ...          ...   \n294                NP-Vegetação Brasileira 1:5.000.000         2237   \n295                            NP-Vegetação por Estado         2143   \n296  NP-Vocabulário Básico de Recursos Naturais e M...         2223   \n297  NP-Workshop sobre o Sistema Brasileiro de Clas...         2235   \n298                  NP-Zoneamento Ecológico-Econômico         2158   \n\n                                        parentCatTitle   \n0    NP-Agricultura, pecuária, produção florestal, ...  \\\n1         NP-Condições de vida, pobreza e desigualdade   \n2    NP-Agricultura, pecuária, produção florestal, ...   \n3         NP-Condições de vida, pobreza e desigualdade   \n4                                             NP-Saúde   \n..                                                 ...   \n294                      NP-Vegetação#recursosnaturais   \n295           NP-Informações ambientais #mapasdobrasil   \n296                              NP-Estudos ambientais   \n297                  NP-Geomorfologia#recursosnaturais   \n298                          NP-Análises do território   \n\n                                                  path  \n0    novo-portal/estatisticas/estatisticas-economic...  \n1    novo-portal/estatisticas/estatisticas-multidom...  \n2    novo-portal/estatisticas/estatisticas-economic...  \n3    novo-portal/estatisticas/estatisticas-multidom...  \n4    novo-portal/estatisticas/demografia-e-estatist...  \n..                                                 ...  \n294  novo-portal/geociencias/np-cartas-e-mapas/np-m...  \n295  novo-portal/geociencias/np-cartas-e-mapas/np-m...  \n296  novo-portal/geociencias/np-cartas-e-mapas/np-m...  \n297  novo-portal/geociencias/np-cartas-e-mapas/np-m...  \n298  novo-portal/geociencias/np-informacoes-sobre-o...  \n\n[299 rows x 10 columns]"
     },
     "execution_count": 3,
     "metadata": {},
     "output_type": "execute_result"
    }
   ],
   "source": [
    "df_produtos"
   ]
  },
  {
   "cell_type": "markdown",
   "metadata": {},
   "source": [
    "## Metadados - Análise para Modelagem"
   ]
  },
  {
   "cell_type": "code",
   "execution_count": 7,
   "metadata": {},
   "outputs": [
    {
     "data": {
      "text/plain": "[{'col_name': 'id', 'unique_count': 299},\n {'col_name': 'tipo', 'unique_count': 2},\n {'col_name': 'titulo', 'unique_count': 299},\n {'col_name': 'alias', 'unique_count': 299},\n {'col_name': 'sigla', 'unique_count': 67},\n {'col_name': 'catId', 'unique_count': 258},\n {'col_name': 'catTitle', 'unique_count': 258},\n {'col_name': 'parentCatId', 'unique_count': 66},\n {'col_name': 'parentCatTitle', 'unique_count': 66},\n {'col_name': 'path', 'unique_count': 258}]"
     },
     "execution_count": 7,
     "metadata": {},
     "output_type": "execute_result"
    }
   ],
   "source": [
    "cols_info = []\r\n",
    "for column in df_produtos.columns:\r\n",
    "  cols_info.append({\r\n",
    "      'col_name': column,\r\n",
    "      'unique_count': len(df_produtos[column].unique())\r\n",
    "  })\r\n",
    "  \r\n",
    "cols_info"
   ]
  },
  {
   "cell_type": "code",
   "execution_count": 14,
   "metadata": {},
   "outputs": [
    {
     "data": {
      "text/plain": "{'id': 20700,\n 'tipo': 'Estatísticas',\n 'titulo': '1995-1996#censoagro6',\n 'alias': '1995-1996-censoagro1995',\n 'sigla': '',\n 'catId': 2017,\n 'catTitle': 'NP-Censo Agropecuário',\n 'parentCatId': 1915,\n 'parentCatTitle': 'NP-Agricultura, pecuária, produção florestal, pesca e aquicultura',\n 'path': 'novo-portal/estatisticas/estatisticas-economicas/estatisticas-economicas-setoriais/agricultura-pecuaria-producao-florestal-pesca-e-aquicultura/np-censo-agropecuario'}"
     },
     "execution_count": 14,
     "metadata": {},
     "output_type": "execute_result"
    }
   ],
   "source": [
    "get_request_json(url)[0]"
   ]
  },
  {
   "cell_type": "code",
   "execution_count": null,
   "metadata": {},
   "outputs": [],
   "source": []
  }
 ],
 "metadata": {
  "kernelspec": {
   "display_name": "Python 3.11.3 64-bit",
   "metadata": {
    "interpreter": {
     "hash": "1f9cc8cd99bde4ad34d9e4c5506bdcfbd0680e8eab8faedc4eaff1ddda369bb1"
    }
   },
   "name": "python3"
  },
  "language_info": {
   "codemirror_mode": {
    "name": "ipython",
    "version": 3
   },
   "file_extension": ".py",
   "mimetype": "text/x-python",
   "name": "python",
   "nbconvert_exporter": "python",
   "pygments_lexer": "ipython3",
   "version": "3.11.3"
  },
  "orig_nbformat": 2
 },
 "nbformat": 4,
 "nbformat_minor": 2
}