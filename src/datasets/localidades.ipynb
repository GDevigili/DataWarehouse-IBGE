{
  "cells": [
    {
      "cell_type": "markdown",
      "metadata": {
        "colab_type": "text",
        "id": "view-in-github"
      },
      "source": [
        "<a href=\"https://colab.research.google.com/github/GDevigili/TCC-DataWarehouse/blob/load-ibge-localidades/src/localidades.ipynb\" target=\"_parent\"><img src=\"https://colab.research.google.com/assets/colab-badge.svg\" alt=\"Open In Colab\"/></a>"
      ]
    },
    {
      "cell_type": "code",
      "execution_count": 1,
      "metadata": {
        "id": "HomBZD-nyEHr"
      },
      "outputs": [],
      "source": [
        "import requests\n",
        "import json\n",
        "import sys\n",
        "\n",
        "sys.path.append('..')\n",
        "\n",
        "# Data Manipulation\n",
        "import pandas as pd\n",
        "\n",
        "from utils import *"
      ]
    },
    {
      "cell_type": "code",
      "execution_count": 2,
      "metadata": {},
      "outputs": [],
      "source": [
        "# # Run this cells if running in google colab\n",
        "# from google.colab import data_table\n",
        "# data_table.enable_dataframe_formatter()"
      ]
    },
    {
      "cell_type": "markdown",
      "metadata": {
        "id": "AMQU2vL0SddU"
      },
      "source": [
        "# Data Loading"
      ]
    },
    {
      "cell_type": "code",
      "execution_count": 3,
      "metadata": {
        "id": "gh-jUuGIyILp"
      },
      "outputs": [],
      "source": [
        "url = \"https://servicodados.ibge.gov.br/api/v1/localidades/distritos\"\n",
        "request = get_request().get(url)\n",
        "info = request.json()"
      ]
    },
    {
      "cell_type": "markdown",
      "metadata": {
        "id": "ZIfo0zpK6S2t"
      },
      "source": [
        "Info é uma lista de dicionários que vem de `request.json()`"
      ]
    },
    {
      "cell_type": "markdown",
      "metadata": {
        "id": "eMMhcvKXUP-n"
      },
      "source": [
        "### Sample data"
      ]
    },
    {
      "cell_type": "markdown",
      "metadata": {
        "id": "Id93jV5FWg8M"
      },
      "source": [
        "```py\n",
        "{\n",
        "  'id': 520005005,\n",
        "  'nome': 'Abadia de Goiás',\n",
        "  'municipio': {\n",
        "    'id': 5200050,\n",
        "    'nome': 'Abadia de Goiás',\n",
        "    'microrregiao': {\n",
        "      'id': 52010,\n",
        "      'nome': 'Goiânia',\n",
        "      'mesorregiao': {\n",
        "        'id': 5203,\n",
        "        'nome': 'Centro Goiano',\n",
        "        'UF': {\n",
        "          'id': 52,\n",
        "          'sigla': 'GO',\n",
        "          'nome': 'Goiás',\n",
        "          'regiao': {\n",
        "            'id': 5,\n",
        "            'sigla': 'CO',\n",
        "            'nome': 'Centro-Oeste'\n",
        "          }\n",
        "        }\n",
        "      }\n",
        "    },\n",
        "    'regiao-imediata': {\n",
        "      'id': 520001,\n",
        "      'nome': 'Goiânia',\n",
        "      'regiao-intermediaria': {\n",
        "        'id': 5201,\n",
        "        'nome': 'Goiânia',\n",
        "        'UF': {\n",
        "          'id': 52,\n",
        "          'sigla': 'GO',\n",
        "          'nome': 'Goiás',\n",
        "          'regiao': {\n",
        "            'id': 5,\n",
        "            'sigla': 'CO',\n",
        "            'nome': 'Centro-Oeste'\n",
        "          }\n",
        "        }\n",
        "      }\n",
        "    }\n",
        "  }\n",
        "}\n",
        "```"
      ]
    },
    {
      "cell_type": "code",
      "execution_count": 4,
      "metadata": {
        "colab": {
          "base_uri": "https://localhost:8080/"
        },
        "id": "lbzB9-4lyRIp",
        "outputId": "90420139-8746-44f7-cadf-237bf68a0ff7"
      },
      "outputs": [
        {
          "data": {
            "text/plain": [
              "{'id': 520005005,\n",
              " 'nome': 'Abadia de Goiás',\n",
              " 'municipio': {'id': 5200050,\n",
              "  'nome': 'Abadia de Goiás',\n",
              "  'microrregiao': {'id': 52010,\n",
              "   'nome': 'Goiânia',\n",
              "   'mesorregiao': {'id': 5203,\n",
              "    'nome': 'Centro Goiano',\n",
              "    'UF': {'id': 52,\n",
              "     'sigla': 'GO',\n",
              "     'nome': 'Goiás',\n",
              "     'regiao': {'id': 5, 'sigla': 'CO', 'nome': 'Centro-Oeste'}}}},\n",
              "  'regiao-imediata': {'id': 520001,\n",
              "   'nome': 'Goiânia',\n",
              "   'regiao-intermediaria': {'id': 5201,\n",
              "    'nome': 'Goiânia',\n",
              "    'UF': {'id': 52,\n",
              "     'sigla': 'GO',\n",
              "     'nome': 'Goiás',\n",
              "     'regiao': {'id': 5, 'sigla': 'CO', 'nome': 'Centro-Oeste'}}}}}}"
            ]
          },
          "execution_count": 4,
          "metadata": {},
          "output_type": "execute_result"
        }
      ],
      "source": [
        "m_ = info[0]\n",
        "info[0]"
      ]
    },
    {
      "cell_type": "markdown",
      "metadata": {
        "id": "QXqbpeY56r3c"
      },
      "source": [
        "Existem localidades repetidas, necessário limpeza disso"
      ]
    },
    {
      "cell_type": "code",
      "execution_count": 5,
      "metadata": {
        "colab": {
          "base_uri": "https://localhost:8080/"
        },
        "id": "MSCKdRWu38AI",
        "outputId": "69328c13-543f-4871-d6b8-9bcd7d01ecec"
      },
      "outputs": [
        {
          "name": "stdout",
          "output_type": "stream",
          "text": [
            "{'id': 5200050, 'nome': 'Abadia de Goiás', 'microrregiao': {'id': 52010, 'nome': 'Goiânia', 'mesorregiao': {'id': 5203, 'nome': 'Centro Goiano', 'UF': {'id': 52, 'sigla': 'GO', 'nome': 'Goiás', 'regiao': {'id': 5, 'sigla': 'CO', 'nome': 'Centro-Oeste'}}}}, 'regiao-imediata': {'id': 520001, 'nome': 'Goiânia', 'regiao-intermediaria': {'id': 5201, 'nome': 'Goiânia', 'UF': {'id': 52, 'sigla': 'GO', 'nome': 'Goiás', 'regiao': {'id': 5, 'sigla': 'CO', 'nome': 'Centro-Oeste'}}}}}\n",
            "{'id': 3100104, 'nome': 'Abadia dos Dourados', 'microrregiao': {'id': 31019, 'nome': 'Patrocínio', 'mesorregiao': {'id': 3105, 'nome': 'Triângulo Mineiro/Alto Paranaíba', 'UF': {'id': 31, 'sigla': 'MG', 'nome': 'Minas Gerais', 'regiao': {'id': 3, 'sigla': 'SE', 'nome': 'Sudeste'}}}}, 'regiao-imediata': {'id': 310061, 'nome': 'Monte Carmelo', 'regiao-intermediaria': {'id': 3111, 'nome': 'Uberlândia', 'UF': {'id': 31, 'sigla': 'MG', 'nome': 'Minas Gerais', 'regiao': {'id': 3, 'sigla': 'SE', 'nome': 'Sudeste'}}}}}\n",
            "{'id': 5200100, 'nome': 'Abadiânia', 'microrregiao': {'id': 52012, 'nome': 'Entorno de Brasília', 'mesorregiao': {'id': 5204, 'nome': 'Leste Goiano', 'UF': {'id': 52, 'sigla': 'GO', 'nome': 'Goiás', 'regiao': {'id': 5, 'sigla': 'CO', 'nome': 'Centro-Oeste'}}}}, 'regiao-imediata': {'id': 520002, 'nome': 'Anápolis', 'regiao-intermediaria': {'id': 5201, 'nome': 'Goiânia', 'UF': {'id': 52, 'sigla': 'GO', 'nome': 'Goiás', 'regiao': {'id': 5, 'sigla': 'CO', 'nome': 'Centro-Oeste'}}}}}\n",
            "{'id': 5200100, 'nome': 'Abadiânia', 'microrregiao': {'id': 52012, 'nome': 'Entorno de Brasília', 'mesorregiao': {'id': 5204, 'nome': 'Leste Goiano', 'UF': {'id': 52, 'sigla': 'GO', 'nome': 'Goiás', 'regiao': {'id': 5, 'sigla': 'CO', 'nome': 'Centro-Oeste'}}}}, 'regiao-imediata': {'id': 520002, 'nome': 'Anápolis', 'regiao-intermediaria': {'id': 5201, 'nome': 'Goiânia', 'UF': {'id': 52, 'sigla': 'GO', 'nome': 'Goiás', 'regiao': {'id': 5, 'sigla': 'CO', 'nome': 'Centro-Oeste'}}}}}\n",
            "{'id': 3100203, 'nome': 'Abaeté', 'microrregiao': {'id': 31024, 'nome': 'Três Marias', 'mesorregiao': {'id': 3106, 'nome': 'Central Mineira', 'UF': {'id': 31, 'sigla': 'MG', 'nome': 'Minas Gerais', 'regiao': {'id': 3, 'sigla': 'SE', 'nome': 'Sudeste'}}}}, 'regiao-imediata': {'id': 310070, 'nome': 'Abaeté', 'regiao-intermediaria': {'id': 3113, 'nome': 'Divinópolis', 'UF': {'id': 31, 'sigla': 'MG', 'nome': 'Minas Gerais', 'regiao': {'id': 3, 'sigla': 'SE', 'nome': 'Sudeste'}}}}}\n"
          ]
        }
      ],
      "source": [
        "for i in range(5):\n",
        "  print(info[i]['municipio'])"
      ]
    },
    {
      "cell_type": "markdown",
      "metadata": {
        "id": "kDD1G5ft2URR"
      },
      "source": [
        "# Preparing the Dataset"
      ]
    },
    {
      "cell_type": "markdown",
      "metadata": {
        "id": "7XWhhTimSbdc"
      },
      "source": [
        "## Data Unpacking"
      ]
    },
    {
      "cell_type": "code",
      "execution_count": 6,
      "metadata": {
        "id": "llZH29LK8PKz"
      },
      "outputs": [],
      "source": [
        "# def unpack_json(json_dict: dict, row: dict = {}, parent_col = '') -> dict:\n",
        "#   \"\"\"\n",
        "#     Make a documentation (how I wish colab had copilot :/ )\n",
        "#   \"\"\"\n",
        "#   # Iterate over each key/value pair on the data\n",
        "#   for key in json_dict:\n",
        "#     # If the value is another dict, i.e. it has more data\n",
        "#     if type(json_dict[key]) == dict:\n",
        "#       # recursivelly call unpack_json() to extract the data\n",
        "#       # passing the a json_dict, the current row (pointer), and the name of the parent col\n",
        "#       unpack_json(json_dict[key], row = row, parent_col = key)\n",
        "#     else:\n",
        "#       # If it's a value (e.g. str, int, etc.), register it on the row\n",
        "#       # formatting the row's column name\n",
        "#       if parent_col == '':\n",
        "#         col_name = str(parent_col) + str(key)\n",
        "#       else:\n",
        "#         col_name = str(parent_col) + '_' + str(key)\n",
        "#       # register the value in the row\n",
        "#       row[col_name] = json_dict[key]\n",
        "#   return row.copy()"
      ]
    },
    {
      "cell_type": "code",
      "execution_count": 7,
      "metadata": {
        "id": "MxWOQ7IkMruT"
      },
      "outputs": [],
      "source": [
        "rows = []\n",
        "for i in range(len(info)):\n",
        "  data = unpack_json(info[i])\n",
        "  rows.append(data)"
      ]
    },
    {
      "cell_type": "markdown",
      "metadata": {
        "id": "DW0ZeA5B2s6n"
      },
      "source": [
        "## Making a Data Frame"
      ]
    },
    {
      "cell_type": "code",
      "execution_count": 8,
      "metadata": {
        "id": "Y6FA8H1Pm2rH"
      },
      "outputs": [],
      "source": [
        "df = pd.DataFrame(rows)"
      ]
    },
    {
      "cell_type": "code",
      "execution_count": 9,
      "metadata": {
        "colab": {
          "base_uri": "https://localhost:8080/",
          "height": 978
        },
        "id": "gUHmUX5enOnl",
        "outputId": "3a29a52e-ef66-40b5-992a-aa5c646740a2"
      },
      "outputs": [
        {
          "data": {
            "text/html": [
              "<div>\n",
              "<style scoped>\n",
              "    .dataframe tbody tr th:only-of-type {\n",
              "        vertical-align: middle;\n",
              "    }\n",
              "\n",
              "    .dataframe tbody tr th {\n",
              "        vertical-align: top;\n",
              "    }\n",
              "\n",
              "    .dataframe thead th {\n",
              "        text-align: right;\n",
              "    }\n",
              "</style>\n",
              "<table border=\"1\" class=\"dataframe\">\n",
              "  <thead>\n",
              "    <tr style=\"text-align: right;\">\n",
              "      <th></th>\n",
              "      <th>id</th>\n",
              "      <th>nome</th>\n",
              "      <th>municipio-id</th>\n",
              "      <th>municipio-nome</th>\n",
              "      <th>microrregiao-id</th>\n",
              "      <th>microrregiao-nome</th>\n",
              "      <th>mesorregiao-id</th>\n",
              "      <th>mesorregiao-nome</th>\n",
              "      <th>UF-id</th>\n",
              "      <th>UF-sigla</th>\n",
              "      <th>UF-nome</th>\n",
              "      <th>regiao-id</th>\n",
              "      <th>regiao-sigla</th>\n",
              "      <th>regiao-nome</th>\n",
              "      <th>regiao-imediata-id</th>\n",
              "      <th>regiao-imediata-nome</th>\n",
              "      <th>regiao-intermediaria-id</th>\n",
              "      <th>regiao-intermediaria-nome</th>\n",
              "    </tr>\n",
              "  </thead>\n",
              "  <tbody>\n",
              "    <tr>\n",
              "      <th>0</th>\n",
              "      <td>520005005</td>\n",
              "      <td>Abadia de Goiás</td>\n",
              "      <td>5200050</td>\n",
              "      <td>Abadia de Goiás</td>\n",
              "      <td>52010</td>\n",
              "      <td>Goiânia</td>\n",
              "      <td>5203</td>\n",
              "      <td>Centro Goiano</td>\n",
              "      <td>52</td>\n",
              "      <td>GO</td>\n",
              "      <td>Goiás</td>\n",
              "      <td>5</td>\n",
              "      <td>CO</td>\n",
              "      <td>Centro-Oeste</td>\n",
              "      <td>520001</td>\n",
              "      <td>Goiânia</td>\n",
              "      <td>5201</td>\n",
              "      <td>Goiânia</td>\n",
              "    </tr>\n",
              "    <tr>\n",
              "      <th>1</th>\n",
              "      <td>310010405</td>\n",
              "      <td>Abadia dos Dourados</td>\n",
              "      <td>3100104</td>\n",
              "      <td>Abadia dos Dourados</td>\n",
              "      <td>31019</td>\n",
              "      <td>Patrocínio</td>\n",
              "      <td>3105</td>\n",
              "      <td>Triângulo Mineiro/Alto Paranaíba</td>\n",
              "      <td>31</td>\n",
              "      <td>MG</td>\n",
              "      <td>Minas Gerais</td>\n",
              "      <td>3</td>\n",
              "      <td>SE</td>\n",
              "      <td>Sudeste</td>\n",
              "      <td>310061</td>\n",
              "      <td>Monte Carmelo</td>\n",
              "      <td>3111</td>\n",
              "      <td>Uberlândia</td>\n",
              "    </tr>\n",
              "    <tr>\n",
              "      <th>2</th>\n",
              "      <td>520010005</td>\n",
              "      <td>Abadiânia</td>\n",
              "      <td>5200100</td>\n",
              "      <td>Abadiânia</td>\n",
              "      <td>52012</td>\n",
              "      <td>Entorno de Brasília</td>\n",
              "      <td>5204</td>\n",
              "      <td>Leste Goiano</td>\n",
              "      <td>52</td>\n",
              "      <td>GO</td>\n",
              "      <td>Goiás</td>\n",
              "      <td>5</td>\n",
              "      <td>CO</td>\n",
              "      <td>Centro-Oeste</td>\n",
              "      <td>520002</td>\n",
              "      <td>Anápolis</td>\n",
              "      <td>5201</td>\n",
              "      <td>Goiânia</td>\n",
              "    </tr>\n",
              "    <tr>\n",
              "      <th>3</th>\n",
              "      <td>520010010</td>\n",
              "      <td>Posse d'Abadia</td>\n",
              "      <td>5200100</td>\n",
              "      <td>Abadiânia</td>\n",
              "      <td>52012</td>\n",
              "      <td>Entorno de Brasília</td>\n",
              "      <td>5204</td>\n",
              "      <td>Leste Goiano</td>\n",
              "      <td>52</td>\n",
              "      <td>GO</td>\n",
              "      <td>Goiás</td>\n",
              "      <td>5</td>\n",
              "      <td>CO</td>\n",
              "      <td>Centro-Oeste</td>\n",
              "      <td>520002</td>\n",
              "      <td>Anápolis</td>\n",
              "      <td>5201</td>\n",
              "      <td>Goiânia</td>\n",
              "    </tr>\n",
              "    <tr>\n",
              "      <th>4</th>\n",
              "      <td>310020305</td>\n",
              "      <td>Abaeté</td>\n",
              "      <td>3100203</td>\n",
              "      <td>Abaeté</td>\n",
              "      <td>31024</td>\n",
              "      <td>Três Marias</td>\n",
              "      <td>3106</td>\n",
              "      <td>Central Mineira</td>\n",
              "      <td>31</td>\n",
              "      <td>MG</td>\n",
              "      <td>Minas Gerais</td>\n",
              "      <td>3</td>\n",
              "      <td>SE</td>\n",
              "      <td>Sudeste</td>\n",
              "      <td>310070</td>\n",
              "      <td>Abaeté</td>\n",
              "      <td>3113</td>\n",
              "      <td>Divinópolis</td>\n",
              "    </tr>\n",
              "    <tr>\n",
              "      <th>...</th>\n",
              "      <td>...</td>\n",
              "      <td>...</td>\n",
              "      <td>...</td>\n",
              "      <td>...</td>\n",
              "      <td>...</td>\n",
              "      <td>...</td>\n",
              "      <td>...</td>\n",
              "      <td>...</td>\n",
              "      <td>...</td>\n",
              "      <td>...</td>\n",
              "      <td>...</td>\n",
              "      <td>...</td>\n",
              "      <td>...</td>\n",
              "      <td>...</td>\n",
              "      <td>...</td>\n",
              "      <td>...</td>\n",
              "      <td>...</td>\n",
              "      <td>...</td>\n",
              "    </tr>\n",
              "    <tr>\n",
              "      <th>10665</th>\n",
              "      <td>293360415</td>\n",
              "      <td>Iguira</td>\n",
              "      <td>2933604</td>\n",
              "      <td>Xique-Xique</td>\n",
              "      <td>29006</td>\n",
              "      <td>Barra</td>\n",
              "      <td>2902</td>\n",
              "      <td>Vale São-Franciscano da Bahia</td>\n",
              "      <td>29</td>\n",
              "      <td>BA</td>\n",
              "      <td>Bahia</td>\n",
              "      <td>2</td>\n",
              "      <td>NE</td>\n",
              "      <td>Nordeste</td>\n",
              "      <td>290021</td>\n",
              "      <td>Xique-Xique - Barra</td>\n",
              "      <td>2907</td>\n",
              "      <td>Irecê</td>\n",
              "    </tr>\n",
              "    <tr>\n",
              "      <th>10666</th>\n",
              "      <td>251740705</td>\n",
              "      <td>Zabelê</td>\n",
              "      <td>2517407</td>\n",
              "      <td>Zabelê</td>\n",
              "      <td>25010</td>\n",
              "      <td>Cariri Ocidental</td>\n",
              "      <td>2502</td>\n",
              "      <td>Borborema</td>\n",
              "      <td>25</td>\n",
              "      <td>PB</td>\n",
              "      <td>Paraíba</td>\n",
              "      <td>2</td>\n",
              "      <td>NE</td>\n",
              "      <td>Nordeste</td>\n",
              "      <td>250007</td>\n",
              "      <td>Monteiro</td>\n",
              "      <td>2502</td>\n",
              "      <td>Campina Grande</td>\n",
              "    </tr>\n",
              "    <tr>\n",
              "      <th>10667</th>\n",
              "      <td>355715405</td>\n",
              "      <td>Zacarias</td>\n",
              "      <td>3557154</td>\n",
              "      <td>Zacarias</td>\n",
              "      <td>35004</td>\n",
              "      <td>São José do Rio Preto</td>\n",
              "      <td>3501</td>\n",
              "      <td>São José do Rio Preto</td>\n",
              "      <td>35</td>\n",
              "      <td>SP</td>\n",
              "      <td>São Paulo</td>\n",
              "      <td>3</td>\n",
              "      <td>SE</td>\n",
              "      <td>Sudeste</td>\n",
              "      <td>350023</td>\n",
              "      <td>Birigui - Penápolis</td>\n",
              "      <td>3506</td>\n",
              "      <td>Araçatuba</td>\n",
              "    </tr>\n",
              "    <tr>\n",
              "      <th>10668</th>\n",
              "      <td>211400705</td>\n",
              "      <td>Zé Doca</td>\n",
              "      <td>2114007</td>\n",
              "      <td>Zé Doca</td>\n",
              "      <td>21008</td>\n",
              "      <td>Pindaré</td>\n",
              "      <td>2102</td>\n",
              "      <td>Oeste Maranhense</td>\n",
              "      <td>21</td>\n",
              "      <td>MA</td>\n",
              "      <td>Maranhão</td>\n",
              "      <td>2</td>\n",
              "      <td>NE</td>\n",
              "      <td>Nordeste</td>\n",
              "      <td>210009</td>\n",
              "      <td>Santa Inês</td>\n",
              "      <td>2102</td>\n",
              "      <td>Santa Inês - Bacabal</td>\n",
              "    </tr>\n",
              "    <tr>\n",
              "      <th>10669</th>\n",
              "      <td>421985305</td>\n",
              "      <td>Zortéa</td>\n",
              "      <td>4219853</td>\n",
              "      <td>Zortéa</td>\n",
              "      <td>42009</td>\n",
              "      <td>Curitibanos</td>\n",
              "      <td>4203</td>\n",
              "      <td>Serrana</td>\n",
              "      <td>42</td>\n",
              "      <td>SC</td>\n",
              "      <td>Santa Catarina</td>\n",
              "      <td>4</td>\n",
              "      <td>S</td>\n",
              "      <td>Sul</td>\n",
              "      <td>420008</td>\n",
              "      <td>Joaçaba - Herval d'Oeste</td>\n",
              "      <td>4204</td>\n",
              "      <td>Chapecó</td>\n",
              "    </tr>\n",
              "  </tbody>\n",
              "</table>\n",
              "<p>10670 rows × 18 columns</p>\n",
              "</div>"
            ],
            "text/plain": [
              "              id                 nome  municipio-id       municipio-nome  \\\n",
              "0      520005005      Abadia de Goiás       5200050      Abadia de Goiás   \n",
              "1      310010405  Abadia dos Dourados       3100104  Abadia dos Dourados   \n",
              "2      520010005            Abadiânia       5200100            Abadiânia   \n",
              "3      520010010       Posse d'Abadia       5200100            Abadiânia   \n",
              "4      310020305               Abaeté       3100203               Abaeté   \n",
              "...          ...                  ...           ...                  ...   \n",
              "10665  293360415               Iguira       2933604          Xique-Xique   \n",
              "10666  251740705               Zabelê       2517407               Zabelê   \n",
              "10667  355715405             Zacarias       3557154             Zacarias   \n",
              "10668  211400705              Zé Doca       2114007              Zé Doca   \n",
              "10669  421985305               Zortéa       4219853               Zortéa   \n",
              "\n",
              "       microrregiao-id      microrregiao-nome  mesorregiao-id  \\\n",
              "0                52010                Goiânia            5203   \n",
              "1                31019             Patrocínio            3105   \n",
              "2                52012    Entorno de Brasília            5204   \n",
              "3                52012    Entorno de Brasília            5204   \n",
              "4                31024            Três Marias            3106   \n",
              "...                ...                    ...             ...   \n",
              "10665            29006                  Barra            2902   \n",
              "10666            25010       Cariri Ocidental            2502   \n",
              "10667            35004  São José do Rio Preto            3501   \n",
              "10668            21008                Pindaré            2102   \n",
              "10669            42009            Curitibanos            4203   \n",
              "\n",
              "                       mesorregiao-nome  UF-id UF-sigla         UF-nome  \\\n",
              "0                         Centro Goiano     52       GO           Goiás   \n",
              "1      Triângulo Mineiro/Alto Paranaíba     31       MG    Minas Gerais   \n",
              "2                          Leste Goiano     52       GO           Goiás   \n",
              "3                          Leste Goiano     52       GO           Goiás   \n",
              "4                       Central Mineira     31       MG    Minas Gerais   \n",
              "...                                 ...    ...      ...             ...   \n",
              "10665     Vale São-Franciscano da Bahia     29       BA           Bahia   \n",
              "10666                         Borborema     25       PB         Paraíba   \n",
              "10667             São José do Rio Preto     35       SP       São Paulo   \n",
              "10668                  Oeste Maranhense     21       MA        Maranhão   \n",
              "10669                           Serrana     42       SC  Santa Catarina   \n",
              "\n",
              "       regiao-id regiao-sigla   regiao-nome  regiao-imediata-id  \\\n",
              "0              5           CO  Centro-Oeste              520001   \n",
              "1              3           SE       Sudeste              310061   \n",
              "2              5           CO  Centro-Oeste              520002   \n",
              "3              5           CO  Centro-Oeste              520002   \n",
              "4              3           SE       Sudeste              310070   \n",
              "...          ...          ...           ...                 ...   \n",
              "10665          2           NE      Nordeste              290021   \n",
              "10666          2           NE      Nordeste              250007   \n",
              "10667          3           SE       Sudeste              350023   \n",
              "10668          2           NE      Nordeste              210009   \n",
              "10669          4            S           Sul              420008   \n",
              "\n",
              "           regiao-imediata-nome  regiao-intermediaria-id  \\\n",
              "0                       Goiânia                     5201   \n",
              "1                 Monte Carmelo                     3111   \n",
              "2                      Anápolis                     5201   \n",
              "3                      Anápolis                     5201   \n",
              "4                        Abaeté                     3113   \n",
              "...                         ...                      ...   \n",
              "10665       Xique-Xique - Barra                     2907   \n",
              "10666                  Monteiro                     2502   \n",
              "10667       Birigui - Penápolis                     3506   \n",
              "10668                Santa Inês                     2102   \n",
              "10669  Joaçaba - Herval d'Oeste                     4204   \n",
              "\n",
              "      regiao-intermediaria-nome  \n",
              "0                       Goiânia  \n",
              "1                    Uberlândia  \n",
              "2                       Goiânia  \n",
              "3                       Goiânia  \n",
              "4                   Divinópolis  \n",
              "...                         ...  \n",
              "10665                     Irecê  \n",
              "10666            Campina Grande  \n",
              "10667                 Araçatuba  \n",
              "10668      Santa Inês - Bacabal  \n",
              "10669                   Chapecó  \n",
              "\n",
              "[10670 rows x 18 columns]"
            ]
          },
          "execution_count": 9,
          "metadata": {},
          "output_type": "execute_result"
        }
      ],
      "source": [
        "df"
      ]
    },
    {
      "cell_type": "markdown",
      "metadata": {
        "id": "v-VnuCxC2yJ-"
      },
      "source": [
        "# Data Exploration"
      ]
    },
    {
      "cell_type": "markdown",
      "metadata": {
        "id": "uZF5edUn7r9S"
      },
      "source": [
        "Showing a sample of the data:"
      ]
    },
    {
      "cell_type": "code",
      "execution_count": 10,
      "metadata": {
        "colab": {
          "base_uri": "https://localhost:8080/",
          "height": 978
        },
        "id": "SZfWHPG80_gv",
        "outputId": "62b5a399-7c8e-4c74-9afd-dedf9bfcb54b"
      },
      "outputs": [
        {
          "data": {
            "text/html": [
              "<div>\n",
              "<style scoped>\n",
              "    .dataframe tbody tr th:only-of-type {\n",
              "        vertical-align: middle;\n",
              "    }\n",
              "\n",
              "    .dataframe tbody tr th {\n",
              "        vertical-align: top;\n",
              "    }\n",
              "\n",
              "    .dataframe thead th {\n",
              "        text-align: right;\n",
              "    }\n",
              "</style>\n",
              "<table border=\"1\" class=\"dataframe\">\n",
              "  <thead>\n",
              "    <tr style=\"text-align: right;\">\n",
              "      <th></th>\n",
              "      <th>id</th>\n",
              "      <th>nome</th>\n",
              "      <th>municipio-id</th>\n",
              "      <th>municipio-nome</th>\n",
              "      <th>microrregiao-id</th>\n",
              "      <th>microrregiao-nome</th>\n",
              "      <th>mesorregiao-id</th>\n",
              "      <th>mesorregiao-nome</th>\n",
              "      <th>UF-id</th>\n",
              "      <th>UF-sigla</th>\n",
              "      <th>UF-nome</th>\n",
              "      <th>regiao-id</th>\n",
              "      <th>regiao-sigla</th>\n",
              "      <th>regiao-nome</th>\n",
              "      <th>regiao-imediata-id</th>\n",
              "      <th>regiao-imediata-nome</th>\n",
              "      <th>regiao-intermediaria-id</th>\n",
              "      <th>regiao-intermediaria-nome</th>\n",
              "    </tr>\n",
              "  </thead>\n",
              "  <tbody>\n",
              "    <tr>\n",
              "      <th>0</th>\n",
              "      <td>520005005</td>\n",
              "      <td>Abadia de Goiás</td>\n",
              "      <td>5200050</td>\n",
              "      <td>Abadia de Goiás</td>\n",
              "      <td>52010</td>\n",
              "      <td>Goiânia</td>\n",
              "      <td>5203</td>\n",
              "      <td>Centro Goiano</td>\n",
              "      <td>52</td>\n",
              "      <td>GO</td>\n",
              "      <td>Goiás</td>\n",
              "      <td>5</td>\n",
              "      <td>CO</td>\n",
              "      <td>Centro-Oeste</td>\n",
              "      <td>520001</td>\n",
              "      <td>Goiânia</td>\n",
              "      <td>5201</td>\n",
              "      <td>Goiânia</td>\n",
              "    </tr>\n",
              "    <tr>\n",
              "      <th>1</th>\n",
              "      <td>310010405</td>\n",
              "      <td>Abadia dos Dourados</td>\n",
              "      <td>3100104</td>\n",
              "      <td>Abadia dos Dourados</td>\n",
              "      <td>31019</td>\n",
              "      <td>Patrocínio</td>\n",
              "      <td>3105</td>\n",
              "      <td>Triângulo Mineiro/Alto Paranaíba</td>\n",
              "      <td>31</td>\n",
              "      <td>MG</td>\n",
              "      <td>Minas Gerais</td>\n",
              "      <td>3</td>\n",
              "      <td>SE</td>\n",
              "      <td>Sudeste</td>\n",
              "      <td>310061</td>\n",
              "      <td>Monte Carmelo</td>\n",
              "      <td>3111</td>\n",
              "      <td>Uberlândia</td>\n",
              "    </tr>\n",
              "    <tr>\n",
              "      <th>2</th>\n",
              "      <td>520010005</td>\n",
              "      <td>Abadiânia</td>\n",
              "      <td>5200100</td>\n",
              "      <td>Abadiânia</td>\n",
              "      <td>52012</td>\n",
              "      <td>Entorno de Brasília</td>\n",
              "      <td>5204</td>\n",
              "      <td>Leste Goiano</td>\n",
              "      <td>52</td>\n",
              "      <td>GO</td>\n",
              "      <td>Goiás</td>\n",
              "      <td>5</td>\n",
              "      <td>CO</td>\n",
              "      <td>Centro-Oeste</td>\n",
              "      <td>520002</td>\n",
              "      <td>Anápolis</td>\n",
              "      <td>5201</td>\n",
              "      <td>Goiânia</td>\n",
              "    </tr>\n",
              "    <tr>\n",
              "      <th>3</th>\n",
              "      <td>520010010</td>\n",
              "      <td>Posse d'Abadia</td>\n",
              "      <td>5200100</td>\n",
              "      <td>Abadiânia</td>\n",
              "      <td>52012</td>\n",
              "      <td>Entorno de Brasília</td>\n",
              "      <td>5204</td>\n",
              "      <td>Leste Goiano</td>\n",
              "      <td>52</td>\n",
              "      <td>GO</td>\n",
              "      <td>Goiás</td>\n",
              "      <td>5</td>\n",
              "      <td>CO</td>\n",
              "      <td>Centro-Oeste</td>\n",
              "      <td>520002</td>\n",
              "      <td>Anápolis</td>\n",
              "      <td>5201</td>\n",
              "      <td>Goiânia</td>\n",
              "    </tr>\n",
              "    <tr>\n",
              "      <th>4</th>\n",
              "      <td>310020305</td>\n",
              "      <td>Abaeté</td>\n",
              "      <td>3100203</td>\n",
              "      <td>Abaeté</td>\n",
              "      <td>31024</td>\n",
              "      <td>Três Marias</td>\n",
              "      <td>3106</td>\n",
              "      <td>Central Mineira</td>\n",
              "      <td>31</td>\n",
              "      <td>MG</td>\n",
              "      <td>Minas Gerais</td>\n",
              "      <td>3</td>\n",
              "      <td>SE</td>\n",
              "      <td>Sudeste</td>\n",
              "      <td>310070</td>\n",
              "      <td>Abaeté</td>\n",
              "      <td>3113</td>\n",
              "      <td>Divinópolis</td>\n",
              "    </tr>\n",
              "    <tr>\n",
              "      <th>...</th>\n",
              "      <td>...</td>\n",
              "      <td>...</td>\n",
              "      <td>...</td>\n",
              "      <td>...</td>\n",
              "      <td>...</td>\n",
              "      <td>...</td>\n",
              "      <td>...</td>\n",
              "      <td>...</td>\n",
              "      <td>...</td>\n",
              "      <td>...</td>\n",
              "      <td>...</td>\n",
              "      <td>...</td>\n",
              "      <td>...</td>\n",
              "      <td>...</td>\n",
              "      <td>...</td>\n",
              "      <td>...</td>\n",
              "      <td>...</td>\n",
              "      <td>...</td>\n",
              "    </tr>\n",
              "    <tr>\n",
              "      <th>10665</th>\n",
              "      <td>293360415</td>\n",
              "      <td>Iguira</td>\n",
              "      <td>2933604</td>\n",
              "      <td>Xique-Xique</td>\n",
              "      <td>29006</td>\n",
              "      <td>Barra</td>\n",
              "      <td>2902</td>\n",
              "      <td>Vale São-Franciscano da Bahia</td>\n",
              "      <td>29</td>\n",
              "      <td>BA</td>\n",
              "      <td>Bahia</td>\n",
              "      <td>2</td>\n",
              "      <td>NE</td>\n",
              "      <td>Nordeste</td>\n",
              "      <td>290021</td>\n",
              "      <td>Xique-Xique - Barra</td>\n",
              "      <td>2907</td>\n",
              "      <td>Irecê</td>\n",
              "    </tr>\n",
              "    <tr>\n",
              "      <th>10666</th>\n",
              "      <td>251740705</td>\n",
              "      <td>Zabelê</td>\n",
              "      <td>2517407</td>\n",
              "      <td>Zabelê</td>\n",
              "      <td>25010</td>\n",
              "      <td>Cariri Ocidental</td>\n",
              "      <td>2502</td>\n",
              "      <td>Borborema</td>\n",
              "      <td>25</td>\n",
              "      <td>PB</td>\n",
              "      <td>Paraíba</td>\n",
              "      <td>2</td>\n",
              "      <td>NE</td>\n",
              "      <td>Nordeste</td>\n",
              "      <td>250007</td>\n",
              "      <td>Monteiro</td>\n",
              "      <td>2502</td>\n",
              "      <td>Campina Grande</td>\n",
              "    </tr>\n",
              "    <tr>\n",
              "      <th>10667</th>\n",
              "      <td>355715405</td>\n",
              "      <td>Zacarias</td>\n",
              "      <td>3557154</td>\n",
              "      <td>Zacarias</td>\n",
              "      <td>35004</td>\n",
              "      <td>São José do Rio Preto</td>\n",
              "      <td>3501</td>\n",
              "      <td>São José do Rio Preto</td>\n",
              "      <td>35</td>\n",
              "      <td>SP</td>\n",
              "      <td>São Paulo</td>\n",
              "      <td>3</td>\n",
              "      <td>SE</td>\n",
              "      <td>Sudeste</td>\n",
              "      <td>350023</td>\n",
              "      <td>Birigui - Penápolis</td>\n",
              "      <td>3506</td>\n",
              "      <td>Araçatuba</td>\n",
              "    </tr>\n",
              "    <tr>\n",
              "      <th>10668</th>\n",
              "      <td>211400705</td>\n",
              "      <td>Zé Doca</td>\n",
              "      <td>2114007</td>\n",
              "      <td>Zé Doca</td>\n",
              "      <td>21008</td>\n",
              "      <td>Pindaré</td>\n",
              "      <td>2102</td>\n",
              "      <td>Oeste Maranhense</td>\n",
              "      <td>21</td>\n",
              "      <td>MA</td>\n",
              "      <td>Maranhão</td>\n",
              "      <td>2</td>\n",
              "      <td>NE</td>\n",
              "      <td>Nordeste</td>\n",
              "      <td>210009</td>\n",
              "      <td>Santa Inês</td>\n",
              "      <td>2102</td>\n",
              "      <td>Santa Inês - Bacabal</td>\n",
              "    </tr>\n",
              "    <tr>\n",
              "      <th>10669</th>\n",
              "      <td>421985305</td>\n",
              "      <td>Zortéa</td>\n",
              "      <td>4219853</td>\n",
              "      <td>Zortéa</td>\n",
              "      <td>42009</td>\n",
              "      <td>Curitibanos</td>\n",
              "      <td>4203</td>\n",
              "      <td>Serrana</td>\n",
              "      <td>42</td>\n",
              "      <td>SC</td>\n",
              "      <td>Santa Catarina</td>\n",
              "      <td>4</td>\n",
              "      <td>S</td>\n",
              "      <td>Sul</td>\n",
              "      <td>420008</td>\n",
              "      <td>Joaçaba - Herval d'Oeste</td>\n",
              "      <td>4204</td>\n",
              "      <td>Chapecó</td>\n",
              "    </tr>\n",
              "  </tbody>\n",
              "</table>\n",
              "<p>10670 rows × 18 columns</p>\n",
              "</div>"
            ],
            "text/plain": [
              "              id                 nome  municipio-id       municipio-nome  \\\n",
              "0      520005005      Abadia de Goiás       5200050      Abadia de Goiás   \n",
              "1      310010405  Abadia dos Dourados       3100104  Abadia dos Dourados   \n",
              "2      520010005            Abadiânia       5200100            Abadiânia   \n",
              "3      520010010       Posse d'Abadia       5200100            Abadiânia   \n",
              "4      310020305               Abaeté       3100203               Abaeté   \n",
              "...          ...                  ...           ...                  ...   \n",
              "10665  293360415               Iguira       2933604          Xique-Xique   \n",
              "10666  251740705               Zabelê       2517407               Zabelê   \n",
              "10667  355715405             Zacarias       3557154             Zacarias   \n",
              "10668  211400705              Zé Doca       2114007              Zé Doca   \n",
              "10669  421985305               Zortéa       4219853               Zortéa   \n",
              "\n",
              "       microrregiao-id      microrregiao-nome  mesorregiao-id  \\\n",
              "0                52010                Goiânia            5203   \n",
              "1                31019             Patrocínio            3105   \n",
              "2                52012    Entorno de Brasília            5204   \n",
              "3                52012    Entorno de Brasília            5204   \n",
              "4                31024            Três Marias            3106   \n",
              "...                ...                    ...             ...   \n",
              "10665            29006                  Barra            2902   \n",
              "10666            25010       Cariri Ocidental            2502   \n",
              "10667            35004  São José do Rio Preto            3501   \n",
              "10668            21008                Pindaré            2102   \n",
              "10669            42009            Curitibanos            4203   \n",
              "\n",
              "                       mesorregiao-nome  UF-id UF-sigla         UF-nome  \\\n",
              "0                         Centro Goiano     52       GO           Goiás   \n",
              "1      Triângulo Mineiro/Alto Paranaíba     31       MG    Minas Gerais   \n",
              "2                          Leste Goiano     52       GO           Goiás   \n",
              "3                          Leste Goiano     52       GO           Goiás   \n",
              "4                       Central Mineira     31       MG    Minas Gerais   \n",
              "...                                 ...    ...      ...             ...   \n",
              "10665     Vale São-Franciscano da Bahia     29       BA           Bahia   \n",
              "10666                         Borborema     25       PB         Paraíba   \n",
              "10667             São José do Rio Preto     35       SP       São Paulo   \n",
              "10668                  Oeste Maranhense     21       MA        Maranhão   \n",
              "10669                           Serrana     42       SC  Santa Catarina   \n",
              "\n",
              "       regiao-id regiao-sigla   regiao-nome  regiao-imediata-id  \\\n",
              "0              5           CO  Centro-Oeste              520001   \n",
              "1              3           SE       Sudeste              310061   \n",
              "2              5           CO  Centro-Oeste              520002   \n",
              "3              5           CO  Centro-Oeste              520002   \n",
              "4              3           SE       Sudeste              310070   \n",
              "...          ...          ...           ...                 ...   \n",
              "10665          2           NE      Nordeste              290021   \n",
              "10666          2           NE      Nordeste              250007   \n",
              "10667          3           SE       Sudeste              350023   \n",
              "10668          2           NE      Nordeste              210009   \n",
              "10669          4            S           Sul              420008   \n",
              "\n",
              "           regiao-imediata-nome  regiao-intermediaria-id  \\\n",
              "0                       Goiânia                     5201   \n",
              "1                 Monte Carmelo                     3111   \n",
              "2                      Anápolis                     5201   \n",
              "3                      Anápolis                     5201   \n",
              "4                        Abaeté                     3113   \n",
              "...                         ...                      ...   \n",
              "10665       Xique-Xique - Barra                     2907   \n",
              "10666                  Monteiro                     2502   \n",
              "10667       Birigui - Penápolis                     3506   \n",
              "10668                Santa Inês                     2102   \n",
              "10669  Joaçaba - Herval d'Oeste                     4204   \n",
              "\n",
              "      regiao-intermediaria-nome  \n",
              "0                       Goiânia  \n",
              "1                    Uberlândia  \n",
              "2                       Goiânia  \n",
              "3                       Goiânia  \n",
              "4                   Divinópolis  \n",
              "...                         ...  \n",
              "10665                     Irecê  \n",
              "10666            Campina Grande  \n",
              "10667                 Araçatuba  \n",
              "10668      Santa Inês - Bacabal  \n",
              "10669                   Chapecó  \n",
              "\n",
              "[10670 rows x 18 columns]"
            ]
          },
          "execution_count": 10,
          "metadata": {},
          "output_type": "execute_result"
        }
      ],
      "source": [
        "df"
      ]
    },
    {
      "cell_type": "code",
      "execution_count": 11,
      "metadata": {
        "colab": {
          "base_uri": "https://localhost:8080/"
        },
        "id": "PCX9NGYD524C",
        "outputId": "fd1f19c7-8611-467e-b287-5e61790c67f4"
      },
      "outputs": [
        {
          "name": "stdout",
          "output_type": "stream",
          "text": [
            "<class 'pandas.core.frame.DataFrame'>\n",
            "RangeIndex: 10670 entries, 0 to 10669\n",
            "Data columns (total 18 columns):\n",
            " #   Column                     Non-Null Count  Dtype \n",
            "---  ------                     --------------  ----- \n",
            " 0   id                         10670 non-null  int64 \n",
            " 1   nome                       10670 non-null  object\n",
            " 2   municipio-id               10670 non-null  int64 \n",
            " 3   municipio-nome             10670 non-null  object\n",
            " 4   microrregiao-id            10670 non-null  int64 \n",
            " 5   microrregiao-nome          10670 non-null  object\n",
            " 6   mesorregiao-id             10670 non-null  int64 \n",
            " 7   mesorregiao-nome           10670 non-null  object\n",
            " 8   UF-id                      10670 non-null  int64 \n",
            " 9   UF-sigla                   10670 non-null  object\n",
            " 10  UF-nome                    10670 non-null  object\n",
            " 11  regiao-id                  10670 non-null  int64 \n",
            " 12  regiao-sigla               10670 non-null  object\n",
            " 13  regiao-nome                10670 non-null  object\n",
            " 14  regiao-imediata-id         10670 non-null  int64 \n",
            " 15  regiao-imediata-nome       10670 non-null  object\n",
            " 16  regiao-intermediaria-id    10670 non-null  int64 \n",
            " 17  regiao-intermediaria-nome  10670 non-null  object\n",
            "dtypes: int64(8), object(10)\n",
            "memory usage: 1.5+ MB\n"
          ]
        }
      ],
      "source": [
        "df.info(show_counts = True)"
      ]
    },
    {
      "cell_type": "markdown",
      "metadata": {
        "id": "NOsce2VJIbVl"
      },
      "source": [
        "#### Unique counts"
      ]
    },
    {
      "cell_type": "code",
      "execution_count": 12,
      "metadata": {
        "colab": {
          "base_uri": "https://localhost:8080/"
        },
        "id": "GvRU-5lu_Oeg",
        "outputId": "3b099fd6-9751-44e6-f61a-0f64e6be0618"
      },
      "outputs": [
        {
          "data": {
            "text/plain": [
              "[{'col_name': 'id', 'unique_count': 10670},\n",
              " {'col_name': 'nome', 'unique_count': 9193},\n",
              " {'col_name': 'municipio-id', 'unique_count': 5570},\n",
              " {'col_name': 'municipio-nome', 'unique_count': 5297},\n",
              " {'col_name': 'microrregiao-id', 'unique_count': 558},\n",
              " {'col_name': 'microrregiao-nome', 'unique_count': 554},\n",
              " {'col_name': 'mesorregiao-id', 'unique_count': 137},\n",
              " {'col_name': 'mesorregiao-nome', 'unique_count': 137},\n",
              " {'col_name': 'UF-id', 'unique_count': 27},\n",
              " {'col_name': 'UF-sigla', 'unique_count': 27},\n",
              " {'col_name': 'UF-nome', 'unique_count': 27},\n",
              " {'col_name': 'regiao-id', 'unique_count': 5},\n",
              " {'col_name': 'regiao-sigla', 'unique_count': 5},\n",
              " {'col_name': 'regiao-nome', 'unique_count': 5},\n",
              " {'col_name': 'regiao-imediata-id', 'unique_count': 510},\n",
              " {'col_name': 'regiao-imediata-nome', 'unique_count': 508},\n",
              " {'col_name': 'regiao-intermediaria-id', 'unique_count': 133},\n",
              " {'col_name': 'regiao-intermediaria-nome', 'unique_count': 133}]"
            ]
          },
          "execution_count": 12,
          "metadata": {},
          "output_type": "execute_result"
        }
      ],
      "source": [
        "cols_info = []\n",
        "for column in df.columns:\n",
        "  cols_info.append({\n",
        "      'col_name': column,\n",
        "      'unique_count': len(df[column].unique())\n",
        "  })\n",
        "  \n",
        "cols_info"
      ]
    },
    {
      "cell_type": "markdown",
      "metadata": {
        "id": "z4waZtFGDZK-"
      },
      "source": [
        "\n",
        "**OBSERVAÇÕES PARA FUTURA LIMPEZA DE DADOS:**\n",
        "\n",
        "\n",
        "Existem municípios com nome repetido mas ID distintos, possibilidades:\n",
        "+ Município localizado em duas micro/meso regiões/UFs distintas\n",
        "+ Municípios com mesmo nome\n",
        "\n",
        "(O mesmo se propaga para demais dados.)\n",
        "\n",
        "Existem 5568 municípios + 2 distritos (federal e Fernando de Noronha) que compõem os 5570 id's de município"
      ]
    },
    {
      "cell_type": "code",
      "execution_count": null,
      "metadata": {
        "id": "-wZNBVHyV4pk"
      },
      "outputs": [],
      "source": []
    },
    {
      "cell_type": "markdown",
      "metadata": {
        "id": "v1BFdrQDTQix"
      },
      "source": [
        "# Other Datasets"
      ]
    },
    {
      "cell_type": "markdown",
      "metadata": {
        "id": "NpEXH2p4TUmC"
      },
      "source": [
        "## Regiões Integradas de Desenvolvimento"
      ]
    },
    {
      "cell_type": "code",
      "execution_count": 13,
      "metadata": {
        "id": "1ok017zFTUJW"
      },
      "outputs": [],
      "source": [
        "url = 'https://servicodados.ibge.gov.br/api/v1/localidades/regioes-integradas-de-desenvolvimento'"
      ]
    },
    {
      "cell_type": "markdown",
      "metadata": {
        "id": "ETpYKAAZXDnC"
      },
      "source": []
    },
    {
      "attachments": {},
      "cell_type": "markdown",
      "metadata": {
        "id": "NDFH9G6gVPCs"
      },
      "source": [
        "## Subdistritos"
      ]
    },
    {
      "cell_type": "code",
      "execution_count": 14,
      "metadata": {
        "id": "n1IGMCKoVpqD"
      },
      "outputs": [],
      "source": [
        "url = 'https://servicodados.ibge.gov.br/api/v1/localidades/subdistritos'"
      ]
    },
    {
      "cell_type": "markdown",
      "metadata": {
        "id": "xcb3LDnRW4Ol"
      },
      "source": [
        "## Regiões Metropolitanas"
      ]
    },
    {
      "cell_type": "code",
      "execution_count": 15,
      "metadata": {
        "id": "CBnpcNKGW6O6"
      },
      "outputs": [],
      "source": [
        "url = 'https://servicodados.ibge.gov.br/api/v1/localidades/regioes-metropolitanas/'"
      ]
    },
    {
      "cell_type": "code",
      "execution_count": 16,
      "metadata": {},
      "outputs": [
        {
          "data": {
            "text/plain": [
              "{'id': 520005005,\n",
              " 'nome': 'Abadia de Goiás',\n",
              " 'municipio-id': 5200050,\n",
              " 'municipio-nome': 'Abadia de Goiás',\n",
              " 'microrregiao-id': 52010,\n",
              " 'microrregiao-nome': 'Goiânia',\n",
              " 'mesorregiao-id': 5203,\n",
              " 'mesorregiao-nome': 'Centro Goiano',\n",
              " 'UF-id': 52,\n",
              " 'UF-sigla': 'GO',\n",
              " 'UF-nome': 'Goiás',\n",
              " 'regiao-id': 5,\n",
              " 'regiao-sigla': 'CO',\n",
              " 'regiao-nome': 'Centro-Oeste',\n",
              " 'regiao-imediata-id': 520001,\n",
              " 'regiao-imediata-nome': 'Goiânia',\n",
              " 'regiao-intermediaria-id': 5201,\n",
              " 'regiao-intermediaria-nome': 'Goiânia'}"
            ]
          },
          "execution_count": 16,
          "metadata": {},
          "output_type": "execute_result"
        }
      ],
      "source": [
        "unpack_json(info[0])"
      ]
    },
    {
      "cell_type": "code",
      "execution_count": null,
      "metadata": {},
      "outputs": [],
      "source": []
    }
  ],
  "metadata": {
    "colab": {
      "authorship_tag": "ABX9TyNFdaZETfSWiKSdhfzyf05F",
      "collapsed_sections": [
        "AMQU2vL0SddU",
        "eMMhcvKXUP-n",
        "7XWhhTimSbdc",
        "DW0ZeA5B2s6n"
      ],
      "include_colab_link": true,
      "provenance": []
    },
    "kernelspec": {
      "display_name": "Python 3",
      "name": "python3"
    },
    "language_info": {
      "codemirror_mode": {
        "name": "ipython",
        "version": 3
      },
      "file_extension": ".py",
      "mimetype": "text/x-python",
      "name": "python",
      "nbconvert_exporter": "python",
      "pygments_lexer": "ipython3",
      "version": "3.10.6"
    }
  },
  "nbformat": 4,
  "nbformat_minor": 0
}
