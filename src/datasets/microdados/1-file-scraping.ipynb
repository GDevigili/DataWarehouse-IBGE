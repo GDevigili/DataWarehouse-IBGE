{
 "cells": [
  {
   "cell_type": "code",
   "execution_count": 1,
   "metadata": {},
   "outputs": [],
   "source": [
    "import sys\n",
    "import os\n",
    "import requests\n",
    "import zipfile\n",
    "sys.path.append('../..')\n",
    "\n",
    "# Data Manipulation\n",
    "import pandas as pd\n",
    "\n",
    "# from utils import *\n",
    "\n",
    "from bs4 import BeautifulSoup as bs\n",
    "import urllib.request"
   ]
  },
  {
   "cell_type": "code",
   "execution_count": 2,
   "metadata": {},
   "outputs": [],
   "source": [
    "url = \"https://www.ibge.gov.br/estatisticas/sociais/trabalho/22827-censo-demografico-2022.html?edicao=37225&t=microdados\"\n",
    "\n",
    "DATA_PATH = \"../../data/\"\n",
    "\n",
    "# The following variables determine which cells will be run, default is true for all variables\n",
    "config_vars = {\n",
    "    'download_zips': True # Download zips from IBGE website\n",
    "    ,'unzip_files': True # Unzip zips\n",
    "}"
   ]
  },
  {
   "cell_type": "markdown",
   "metadata": {},
   "source": [
    "# Scraping dos arquivos de Microdados"
   ]
  },
  {
   "cell_type": "markdown",
   "metadata": {},
   "source": [
    "## 1- Download dos Arquivos .zip"
   ]
  },
  {
   "cell_type": "code",
   "execution_count": 3,
   "metadata": {},
   "outputs": [
    {
     "name": "stdout",
     "output_type": "stream",
     "text": [
      "CPU times: total: 5.39 s\n",
      "Wall time: 2min 12s\n"
     ]
    }
   ],
   "source": [
    "%%time\n",
    "if config_vars['download_zips'] == True:\n",
    "    census_list = []\n",
    "    \n",
    "    # scrape the html from IBGE's website\n",
    "    soup = bs(requests.get(url).text)\n",
    "\n",
    "    # find all unordered lists and iterate over them\n",
    "    uls = soup.find_all(\"ul\")\n",
    "    for ul in uls:\n",
    "    # find all links in the unordered list and iterate over them\n",
    "        ul_as = ul.find_all(\"a\")\n",
    "        for ul_a in ul_as:\n",
    "            # if one of the links refers to the state name \"Acre\", the list contains the census data\n",
    "            if ul_a.text == \"Acre\":\n",
    "                census_list.append(ul)\n",
    "\n",
    "    # iterate over the census data list\n",
    "    for census in census_list:\n",
    "        # find all links in the census data list and iterate over them\n",
    "        census_as = census.find_all(\"a\")\n",
    "        for census_a in census_as:\n",
    "            # get the text of the link\n",
    "            href = census_a['href']\n",
    "            # get the year from the link's text\n",
    "            idx_year = int(href.index(\"Censo_Demografico_\") + len(\"Censo_Demografico_\"))\n",
    "            nm_year = href[idx_year:int(idx_year) + 4]\n",
    "            # get the uf from the link's text\n",
    "            nm_uf = href[href.rindex(\"/\") + 1:-4]\n",
    "            # define the filename\n",
    "            nm_file = f\"{DATA_PATH}/{nm_year}_{nm_uf}.zip\"\n",
    "            # download the file\n",
    "            urllib.request.urlretrieve(href, nm_file)"
   ]
  },
  {
   "cell_type": "markdown",
   "metadata": {},
   "source": [
    "## 2- Unzip dos arquivos"
   ]
  },
  {
   "cell_type": "code",
   "execution_count": 4,
   "metadata": {},
   "outputs": [
    {
     "name": "stdout",
     "output_type": "stream",
     "text": [
      "File: 2000_1_Documentacao_20170908.zip not processed due to Error: \n",
      "[WinError 32] O arquivo já está sendo usado por outro processo: '../../data/2000_1_Documentacao_20170908.zip'\n",
      "File: 2000_AC.zip not processed due to Error: \n",
      "[WinError 32] O arquivo já está sendo usado por outro processo: '../../data/2000_AC.zip'\n",
      "File: 2000_AL.zip not processed due to Error: \n",
      "[WinError 32] O arquivo já está sendo usado por outro processo: '../../data/2000_AL.zip'\n",
      "File: 2000_AM.zip not processed due to Error: \n",
      "[WinError 32] O arquivo já está sendo usado por outro processo: '../../data/2000_AM.zip'\n",
      "File: 2000_AP.zip not processed due to Error: \n",
      "[WinError 32] O arquivo já está sendo usado por outro processo: '../../data/2000_AP.zip'\n",
      "File: 2000_BA.zip not processed due to Error: \n",
      "[WinError 32] O arquivo já está sendo usado por outro processo: '../../data/2000_BA.zip'\n",
      "File: 2000_CE.zip not processed due to Error: \n",
      "[WinError 32] O arquivo já está sendo usado por outro processo: '../../data/2000_CE.zip'\n",
      "File: 2000_DF.zip not processed due to Error: \n",
      "[WinError 32] O arquivo já está sendo usado por outro processo: '../../data/2000_DF.zip'\n",
      "File: 2000_ES.zip not processed due to Error: \n",
      "[WinError 32] O arquivo já está sendo usado por outro processo: '../../data/2000_ES.zip'\n",
      "File: 2000_GO.zip not processed due to Error: \n",
      "[WinError 32] O arquivo já está sendo usado por outro processo: '../../data/2000_GO.zip'\n",
      "File: 2000_MA.zip not processed due to Error: \n",
      "[WinError 32] O arquivo já está sendo usado por outro processo: '../../data/2000_MA.zip'\n",
      "File: 2000_MG.zip not processed due to Error: \n",
      "[WinError 32] O arquivo já está sendo usado por outro processo: '../../data/2000_MG.zip'\n",
      "File: 2000_MS.zip not processed due to Error: \n",
      "[WinError 32] O arquivo já está sendo usado por outro processo: '../../data/2000_MS.zip'\n",
      "File: 2000_MT.zip not processed due to Error: \n",
      "[WinError 32] O arquivo já está sendo usado por outro processo: '../../data/2000_MT.zip'\n",
      "File: 2000_PA.zip not processed due to Error: \n",
      "[WinError 32] O arquivo já está sendo usado por outro processo: '../../data/2000_PA.zip'\n",
      "File: 2000_PB.zip not processed due to Error: \n",
      "[WinError 32] O arquivo já está sendo usado por outro processo: '../../data/2000_PB.zip'\n",
      "File: 2000_PE.zip not processed due to Error: \n",
      "[WinError 32] O arquivo já está sendo usado por outro processo: '../../data/2000_PE.zip'\n",
      "File: 2000_PI.zip not processed due to Error: \n",
      "[WinError 32] O arquivo já está sendo usado por outro processo: '../../data/2000_PI.zip'\n",
      "File: 2000_PR.zip not processed due to Error: \n",
      "[WinError 32] O arquivo já está sendo usado por outro processo: '../../data/2000_PR.zip'\n",
      "File: 2000_RJ.zip not processed due to Error: \n",
      "[WinError 32] O arquivo já está sendo usado por outro processo: '../../data/2000_RJ.zip'\n",
      "File: 2000_RN.zip not processed due to Error: \n",
      "[WinError 32] O arquivo já está sendo usado por outro processo: '../../data/2000_RN.zip'\n",
      "File: 2000_RO.zip not processed due to Error: \n",
      "[WinError 32] O arquivo já está sendo usado por outro processo: '../../data/2000_RO.zip'\n",
      "File: 2000_RR.zip not processed due to Error: \n",
      "[WinError 32] O arquivo já está sendo usado por outro processo: '../../data/2000_RR.zip'\n",
      "File: 2000_RS.zip not processed due to Error: \n",
      "[WinError 32] O arquivo já está sendo usado por outro processo: '../../data/2000_RS.zip'\n",
      "File: 2000_SC.zip not processed due to Error: \n",
      "[WinError 32] O arquivo já está sendo usado por outro processo: '../../data/2000_SC.zip'\n",
      "File: 2000_SE.zip not processed due to Error: \n",
      "[WinError 32] O arquivo já está sendo usado por outro processo: '../../data/2000_SE.zip'\n",
      "File: 2000_SP.zip not processed due to Error: \n",
      "[WinError 32] O arquivo já está sendo usado por outro processo: '../../data/2000_SP.zip'\n",
      "File: 2000_TO.zip not processed due to Error: \n",
      "[WinError 32] O arquivo já está sendo usado por outro processo: '../../data/2000_TO.zip'\n",
      "File: 2010_AC.zip not processed due to Error: \n",
      "[WinError 32] O arquivo já está sendo usado por outro processo: '../../data/2010_AC.zip'\n",
      "File: 2010_AL.zip not processed due to Error: \n",
      "[WinError 32] O arquivo já está sendo usado por outro processo: '../../data/2010_AL.zip'\n",
      "File: 2010_AM.zip not processed due to Error: \n",
      "[WinError 32] O arquivo já está sendo usado por outro processo: '../../data/2010_AM.zip'\n",
      "File: 2010_AP.zip not processed due to Error: \n",
      "[WinError 32] O arquivo já está sendo usado por outro processo: '../../data/2010_AP.zip'\n",
      "File: 2010_BA.zip not processed due to Error: \n",
      "[WinError 32] O arquivo já está sendo usado por outro processo: '../../data/2010_BA.zip'\n",
      "File: 2010_CE.zip not processed due to Error: \n",
      "[WinError 32] O arquivo já está sendo usado por outro processo: '../../data/2010_CE.zip'\n",
      "File: 2010_DF.zip not processed due to Error: \n",
      "[WinError 32] O arquivo já está sendo usado por outro processo: '../../data/2010_DF.zip'\n",
      "File: 2010_ES.zip not processed due to Error: \n",
      "[WinError 32] O arquivo já está sendo usado por outro processo: '../../data/2010_ES.zip'\n",
      "File: 2010_GO.zip not processed due to Error: \n",
      "[WinError 32] O arquivo já está sendo usado por outro processo: '../../data/2010_GO.zip'\n",
      "File: 2010_MA.zip not processed due to Error: \n",
      "[WinError 32] O arquivo já está sendo usado por outro processo: '../../data/2010_MA.zip'\n",
      "File: 2010_MG.zip not processed due to Error: \n",
      "[WinError 32] O arquivo já está sendo usado por outro processo: '../../data/2010_MG.zip'\n",
      "File: 2010_microdados_%2014_municipios_com_areas_redefinidas_20160331.zip not processed due to Error: \n",
      "[WinError 32] O arquivo já está sendo usado por outro processo: '../../data/2010_microdados_%2014_municipios_com_areas_redefinidas_20160331.zip'\n",
      "File: 2010_MS.zip not processed due to Error: \n",
      "[WinError 32] O arquivo já está sendo usado por outro processo: '../../data/2010_MS.zip'\n",
      "File: 2010_MT.zip not processed due to Error: \n",
      "[WinError 32] O arquivo já está sendo usado por outro processo: '../../data/2010_MT.zip'\n",
      "File: 2010_PA.zip not processed due to Error: \n",
      "[WinError 32] O arquivo já está sendo usado por outro processo: '../../data/2010_PA.zip'\n",
      "File: 2010_PB.zip not processed due to Error: \n",
      "[WinError 32] O arquivo já está sendo usado por outro processo: '../../data/2010_PB.zip'\n",
      "File: 2010_PE.zip not processed due to Error: \n",
      "[WinError 32] O arquivo já está sendo usado por outro processo: '../../data/2010_PE.zip'\n",
      "File: 2010_PI.zip not processed due to Error: \n",
      "[WinError 32] O arquivo já está sendo usado por outro processo: '../../data/2010_PI.zip'\n",
      "File: 2010_PR.zip not processed due to Error: \n",
      "[WinError 32] O arquivo já está sendo usado por outro processo: '../../data/2010_PR.zip'\n",
      "File: 2010_RJ.zip not processed due to Error: \n",
      "[WinError 32] O arquivo já está sendo usado por outro processo: '../../data/2010_RJ.zip'\n",
      "File: 2010_RN.zip not processed due to Error: \n",
      "[WinError 32] O arquivo já está sendo usado por outro processo: '../../data/2010_RN.zip'\n",
      "File: 2010_RO.zip not processed due to Error: \n",
      "[WinError 32] O arquivo já está sendo usado por outro processo: '../../data/2010_RO.zip'\n",
      "File: 2010_RR.zip not processed due to Error: \n",
      "[WinError 32] O arquivo já está sendo usado por outro processo: '../../data/2010_RR.zip'\n",
      "File: 2010_RS.zip not processed due to Error: \n",
      "[WinError 32] O arquivo já está sendo usado por outro processo: '../../data/2010_RS.zip'\n",
      "File: 2010_SC.zip not processed due to Error: \n",
      "[WinError 32] O arquivo já está sendo usado por outro processo: '../../data/2010_SC.zip'\n",
      "File: 2010_SE.zip not processed due to Error: \n",
      "[WinError 32] O arquivo já está sendo usado por outro processo: '../../data/2010_SE.zip'\n",
      "File: 2010_SP1.zip not processed due to Error: \n",
      "[WinError 32] O arquivo já está sendo usado por outro processo: '../../data/2010_SP1.zip'\n",
      "File: 2010_SP2_RM.zip not processed due to Error: \n",
      "[WinError 32] O arquivo já está sendo usado por outro processo: '../../data/2010_SP2_RM.zip'\n",
      "File: 2010_TO.zip not processed due to Error: \n",
      "[WinError 32] O arquivo já está sendo usado por outro processo: '../../data/2010_TO.zip'\n",
      "CPU times: total: 44.4 s\n",
      "Wall time: 2min 28s\n"
     ]
    }
   ],
   "source": [
    "%%time\n",
    "if config_vars['unzip_files'] == True:\n",
    "    for file_path in os.listdir(DATA_PATH):\n",
    "        if file_path.endswith('.zip'):\n",
    "            with zipfile.ZipFile(DATA_PATH + file_path, 'r') as zip_ref:\n",
    "                try:\n",
    "                    zip_ref.extractall(DATA_PATH)\n",
    "                    os.remove(DATA_PATH + file_path)\n",
    "                except Exception as e:\n",
    "                    print(f'File: {file_path} not processed due to Error: \\n{e}')\n",
    "                zip_ref.close()"
   ]
  },
  {
   "cell_type": "markdown",
   "metadata": {},
   "source": [
    "## 3- Flattening dos arquivos"
   ]
  },
  {
   "cell_type": "code",
   "execution_count": null,
   "metadata": {},
   "outputs": [],
   "source": []
  }
 ],
 "metadata": {
  "kernelspec": {
   "display_name": "Python 3",
   "language": "python",
   "name": "python3"
  },
  "language_info": {
   "codemirror_mode": {
    "name": "ipython",
    "version": 3
   },
   "file_extension": ".py",
   "mimetype": "text/x-python",
   "name": "python",
   "nbconvert_exporter": "python",
   "pygments_lexer": "ipython3",
   "version": "3.9.5"
  },
  "orig_nbformat": 4
 },
 "nbformat": 4,
 "nbformat_minor": 2
}
