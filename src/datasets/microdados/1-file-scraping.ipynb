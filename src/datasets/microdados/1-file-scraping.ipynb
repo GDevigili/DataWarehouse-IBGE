{
 "cells": [
  {
   "cell_type": "code",
   "execution_count": 11,
   "metadata": {},
   "outputs": [],
   "source": [
    "import requests\n",
    "import sys\n",
    "\n",
    "sys.path.append('../..')\n",
    "\n",
    "# Data Manipulation\n",
    "import pandas as pd\n",
    "\n",
    "# from utils import *\n",
    "\n",
    "from bs4 import BeautifulSoup as bs\n",
    "import urllib.request"
   ]
  },
  {
   "cell_type": "markdown",
   "metadata": {},
   "source": [
    "# Scraping dos arquivos de Microdados"
   ]
  },
  {
   "cell_type": "code",
   "execution_count": 12,
   "metadata": {},
   "outputs": [],
   "source": [
    "url = \"https://www.ibge.gov.br/estatisticas/sociais/trabalho/22827-censo-demografico-2022.html?edicao=37225&t=microdados\"\n",
    "\n",
    "soup = bs(requests.get(url).text)"
   ]
  },
  {
   "cell_type": "code",
   "execution_count": 13,
   "metadata": {},
   "outputs": [],
   "source": [
    "# soup.find_all(\"div\", {\"class\": \"panel\"})"
   ]
  },
  {
   "cell_type": "code",
   "execution_count": null,
   "metadata": {},
   "outputs": [],
   "source": [
    "%%time\n",
    "census_list = []\n",
    "\n",
    "# find all unordered lists and iterate over them\n",
    "uls = soup.find_all(\"ul\")\n",
    "for ul in uls:\n",
    "# find all links in the unordered list and iterate over them\n",
    "    ul_as = ul.find_all(\"a\")\n",
    "    for ul_a in ul_as:\n",
    "        # if one of the links refers to the state name \"Acre\", the list contains the census data\n",
    "        if ul_a.text == \"Acre\":\n",
    "            census_list.append(ul)\n",
    "\n",
    "# iterate over the census data list\n",
    "for census in census_list:\n",
    "    # find all links in the census data list and iterate over them\n",
    "    census_as = census.find_all(\"a\")\n",
    "    for census_a in census_as:\n",
    "        # get the text of the link\n",
    "        href = census_a['href']\n",
    "        # get the year from the link's text\n",
    "        idx_year = int(href.index(\"Censo_Demografico_\") + len(\"Censo_Demografico_\"))\n",
    "        nm_year = href[idx_year:int(idx_year) + 4]\n",
    "        # get the uf from the link's text\n",
    "        nm_uf = href[href.rindex(\"/\") + 1:-4]\n",
    "        # define the filename\n",
    "        nm_file = f\"{nm_year}_{nm_uf}.zip\"\n",
    "        # download the file\n",
    "        urllib.request.urlretrieve(href, nm_file)"
   ]
  }
 ],
 "metadata": {
  "kernelspec": {
   "display_name": "Python 3",
   "language": "python",
   "name": "python3"
  },
  "language_info": {
   "codemirror_mode": {
    "name": "ipython",
    "version": 3
   },
   "file_extension": ".py",
   "mimetype": "text/x-python",
   "name": "python",
   "nbconvert_exporter": "python",
   "pygments_lexer": "ipython3",
   "version": "3.9.5"
  },
  "orig_nbformat": 4
 },
 "nbformat": 4,
 "nbformat_minor": 2
}
