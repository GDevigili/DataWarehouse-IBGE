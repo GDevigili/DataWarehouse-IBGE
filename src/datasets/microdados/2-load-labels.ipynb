{
 "cells": [
  {
   "cell_type": "markdown",
   "metadata": {},
   "source": [
    "# Título"
   ]
  },
  {
   "cell_type": "code",
   "execution_count": 27,
   "metadata": {},
   "outputs": [],
   "source": [
    "import sys\n",
    "import os\n",
    "sys.path.append('../..')\n",
    "\n",
    "# Data Manipulation\n",
    "import pandas as pd\n",
    "import openpyxl"
   ]
  },
  {
   "cell_type": "code",
   "execution_count": 28,
   "metadata": {},
   "outputs": [],
   "source": [
    "DATA_PATH = \"../../data/\""
   ]
  },
  {
   "cell_type": "markdown",
   "metadata": {},
   "source": [
    "## 1. Arquivos de Layout"
   ]
  },
  {
   "cell_type": "markdown",
   "metadata": {},
   "source": [
    "### 1.1. Censo 2010"
   ]
  },
  {
   "cell_type": "code",
   "execution_count": 29,
   "metadata": {},
   "outputs": [],
   "source": [
    "# Carrega o arquivo de labels como um arquivo Excel\n",
    "layout_2010 = pd.ExcelFile('2010_Layout_microdados_Amostra.xlsx')"
   ]
  },
  {
   "cell_type": "code",
   "execution_count": 60,
   "metadata": {},
   "outputs": [],
   "source": [
    "# Funções Auxiliares\n",
    "\n",
    "def remove_unnamed_columns(df) -> pd.DataFrame:\n",
    "    \"\"\"\n",
    "    Remove colunas com nome Unnamed. Estas colunas vem de colunas que foram mescladas no .xlsx original.\n",
    "\n",
    "    Args:\n",
    "        df (pd.DataFrame): DataFrame com colunas Unnamed\n",
    "\n",
    "    Returns:\n",
    "        pd.DataFrame: DataFrame sem colunas Unnamed\n",
    "    \n",
    "    \"\"\"\n",
    "    return df.loc[:, ~df.columns.str.contains('^Unnamed')]\n",
    "\n",
    "def split_col_names_values(col: pd.Series): \n",
    "    df = pd.DataFrame(columns = ['NOME', 'CHAVE', 'VALOR'])\n",
    "    count = 0\n",
    "    for entry in col:\n",
    "        df_aux = pd.DataFrame(columns = ['NOME', 'CHAVE', 'VALOR'])\n",
    "        split = entry.split('\\n')\n",
    "        # df_aux['NOME'] = pd.concat([df_aux['NOME'], pd.Series(split[0])])\n",
    "        if len(split) > 1:\n",
    "            # series_values = pd.concat([series_values, pd.Series(get_values(split))])\n",
    "            # df_line = pd.DataFrame(columns = ['NOME', 'CHAVES', 'VALORES'])\n",
    "            # # df_line['NOME'] = pd.Series(split[0])\n",
    "            # df_line = pd.Series(get_values)\n",
    "            # dct = pd.Series(get_values)\n",
    "            lst = [{'CHAVE': key, 'VALOR': value} for key, value in get_values(split).items()]\n",
    "            df_aux = pd.DataFrame(lst)\n",
    "            df_aux['NOME'] = split[0]\n",
    "        else:\n",
    "            df_aux['NOME'] = pd.Series(split[0])\n",
    "        df = pd.concat([df, df_aux])\n",
    "    return df\n",
    "\n",
    "\n",
    "def get_values(split: list):\n",
    "    values = {}\n",
    "    for val in range(1, len(split)):\n",
    "        aux = split[val].split('-')\n",
    "        if len(aux) == 1:\n",
    "            aux.append(aux[0])\n",
    "            aux[0] = ' '    \n",
    "        # aux[1] = aux[1].replace(' ', '')\n",
    "        values[aux[0]] = aux[1]\n",
    "    # print(values)\n",
    "    return values"
   ]
  },
  {
   "cell_type": "markdown",
   "metadata": {},
   "source": [
    "#### 1.1.1. Amostra de Domicílios"
   ]
  },
  {
   "cell_type": "code",
   "execution_count": 32,
   "metadata": {},
   "outputs": [
    {
     "data": {
      "text/html": [
       "<div>\n",
       "<style scoped>\n",
       "    .dataframe tbody tr th:only-of-type {\n",
       "        vertical-align: middle;\n",
       "    }\n",
       "\n",
       "    .dataframe tbody tr th {\n",
       "        vertical-align: top;\n",
       "    }\n",
       "\n",
       "    .dataframe thead th {\n",
       "        text-align: right;\n",
       "    }\n",
       "</style>\n",
       "<table border=\"1\" class=\"dataframe\">\n",
       "  <thead>\n",
       "    <tr style=\"text-align: right;\">\n",
       "      <th></th>\n",
       "      <th>VAR</th>\n",
       "      <th>NOME</th>\n",
       "      <th>POSIÇÃO INICIAL</th>\n",
       "      <th>POSIÇÃO FINAL</th>\n",
       "      <th>INT</th>\n",
       "      <th>DEC</th>\n",
       "      <th>TIPO</th>\n",
       "    </tr>\n",
       "  </thead>\n",
       "  <tbody>\n",
       "    <tr>\n",
       "      <th>0</th>\n",
       "      <td>V0001</td>\n",
       "      <td>UNIDADE DA FEDERAÇÃO:\\n11- Rondônia\\n12- Acre\\...</td>\n",
       "      <td>1</td>\n",
       "      <td>2</td>\n",
       "      <td>2</td>\n",
       "      <td>NaN</td>\n",
       "      <td>A</td>\n",
       "    </tr>\n",
       "    <tr>\n",
       "      <th>1</th>\n",
       "      <td>V0002</td>\n",
       "      <td>CÓDIGO DO MUNICÍPIO</td>\n",
       "      <td>3</td>\n",
       "      <td>7</td>\n",
       "      <td>5</td>\n",
       "      <td>NaN</td>\n",
       "      <td>A</td>\n",
       "    </tr>\n",
       "    <tr>\n",
       "      <th>2</th>\n",
       "      <td>V0011</td>\n",
       "      <td>ÁREA DE PONDERAÇÃO</td>\n",
       "      <td>8</td>\n",
       "      <td>20</td>\n",
       "      <td>13</td>\n",
       "      <td>NaN</td>\n",
       "      <td>A</td>\n",
       "    </tr>\n",
       "    <tr>\n",
       "      <th>3</th>\n",
       "      <td>V0300</td>\n",
       "      <td>CONTROLE</td>\n",
       "      <td>21</td>\n",
       "      <td>28</td>\n",
       "      <td>8</td>\n",
       "      <td>NaN</td>\n",
       "      <td>N</td>\n",
       "    </tr>\n",
       "    <tr>\n",
       "      <th>4</th>\n",
       "      <td>V0010</td>\n",
       "      <td>PESO AMOSTRAL</td>\n",
       "      <td>29</td>\n",
       "      <td>44</td>\n",
       "      <td>3</td>\n",
       "      <td>13.0</td>\n",
       "      <td>N</td>\n",
       "    </tr>\n",
       "  </tbody>\n",
       "</table>\n",
       "</div>"
      ],
      "text/plain": [
       "     VAR                                               NOME  POSIÇÃO INICIAL  \\\n",
       "0  V0001  UNIDADE DA FEDERAÇÃO:\\n11- Rondônia\\n12- Acre\\...                1   \n",
       "1  V0002                                CÓDIGO DO MUNICÍPIO                3   \n",
       "2  V0011                                 ÁREA DE PONDERAÇÃO                8   \n",
       "3  V0300                                           CONTROLE               21   \n",
       "4  V0010                                      PESO AMOSTRAL               29   \n",
       "\n",
       "   POSIÇÃO FINAL  INT   DEC TIPO  \n",
       "0              2    2   NaN    A  \n",
       "1              7    5   NaN    A  \n",
       "2             20   13   NaN    A  \n",
       "3             28    8   NaN    N  \n",
       "4             44    3  13.0    N  "
      ]
     },
     "execution_count": 32,
     "metadata": {},
     "output_type": "execute_result"
    }
   ],
   "source": [
    "# Carrega as labels referentes aos microdados de domicílios\n",
    "df_domi = pd.read_excel(layout_2010, sheet_name='DOMI')\n",
    "df_domi = remove_unnamed_columns(df_domi)\n",
    "df_domi.head()"
   ]
  },
  {
   "cell_type": "markdown",
   "metadata": {},
   "source": [
    "#### Outros"
   ]
  },
  {
   "cell_type": "code",
   "execution_count": 33,
   "metadata": {},
   "outputs": [],
   "source": [
    "\n",
    "# Dataframe de pessoas\n",
    "df_pess = pd.read_excel(layout_2010, sheet_name='PESS')\n",
    "# Dataframe de emigração\n",
    "df_emig = pd.read_excel(layout_2010, sheet_name='EMIG')\n",
    "# Dataframe de mortalidade\n",
    "df_mort = pd.read_excel(layout_2010, sheet_name='MORT')"
   ]
  },
  {
   "cell_type": "code",
   "execution_count": 43,
   "metadata": {},
   "outputs": [
    {
     "data": {
      "text/html": [
       "<div>\n",
       "<style scoped>\n",
       "    .dataframe tbody tr th:only-of-type {\n",
       "        vertical-align: middle;\n",
       "    }\n",
       "\n",
       "    .dataframe tbody tr th {\n",
       "        vertical-align: top;\n",
       "    }\n",
       "\n",
       "    .dataframe thead th {\n",
       "        text-align: right;\n",
       "    }\n",
       "</style>\n",
       "<table border=\"1\" class=\"dataframe\">\n",
       "  <thead>\n",
       "    <tr style=\"text-align: right;\">\n",
       "      <th></th>\n",
       "      <th>key</th>\n",
       "      <th>value</th>\n",
       "    </tr>\n",
       "  </thead>\n",
       "  <tbody>\n",
       "    <tr>\n",
       "      <th>0</th>\n",
       "      <td>1</td>\n",
       "      <td>a</td>\n",
       "    </tr>\n",
       "    <tr>\n",
       "      <th>1</th>\n",
       "      <td>4</td>\n",
       "      <td>b</td>\n",
       "    </tr>\n",
       "    <tr>\n",
       "      <th>2</th>\n",
       "      <td>c</td>\n",
       "      <td>v</td>\n",
       "    </tr>\n",
       "  </tbody>\n",
       "</table>\n",
       "</div>"
      ],
      "text/plain": [
       "  key value\n",
       "0   1     a\n",
       "1   4     b\n",
       "2   c     v"
      ]
     },
     "execution_count": 43,
     "metadata": {},
     "output_type": "execute_result"
    }
   ],
   "source": [
    "\n",
    "data = {\n",
    "    '1': 'a',\n",
    "    '4': 'b',\n",
    "    'c': 'v'\n",
    "}\n",
    "\n",
    "# Convert dictionary items to a list of dictionaries\n",
    "list_of_dicts = [{'key': k, 'value': v} for k, v in data.items()]\n",
    "\n",
    "# Create a DataFrame from the list of dictionaries\n",
    "df = pd.DataFrame(list_of_dicts)\n",
    "df"
   ]
  },
  {
   "cell_type": "code",
   "execution_count": null,
   "metadata": {},
   "outputs": [],
   "source": []
  }
 ],
 "metadata": {
  "kernelspec": {
   "display_name": "Python 3",
   "language": "python",
   "name": "python3"
  },
  "language_info": {
   "codemirror_mode": {
    "name": "ipython",
    "version": 3
   },
   "file_extension": ".py",
   "mimetype": "text/x-python",
   "name": "python",
   "nbconvert_exporter": "python",
   "pygments_lexer": "ipython3",
   "version": "3.9.5"
  },
  "orig_nbformat": 4
 },
 "nbformat": 4,
 "nbformat_minor": 2
}
