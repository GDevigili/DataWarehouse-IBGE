{
 "cells": [
  {
   "cell_type": "code",
   "execution_count": 1,
   "metadata": {},
   "outputs": [],
   "source": [
    "import requests\n",
    "import json\n",
    "import sys\n",
    "\n",
    "sys.path.append('..')\n",
    "\n",
    "# Data Manipulation\n",
    "import pandas as pd\n",
    "\n",
    "from utils import *"
   ]
  },
  {
   "attachments": {},
   "cell_type": "markdown",
   "metadata": {},
   "source": [
    "# Agregados"
   ]
  },
  {
   "cell_type": "code",
   "execution_count": 2,
   "metadata": {},
   "outputs": [
    {
     "data": {
      "text/html": [
       "<div>\n",
       "<style scoped>\n",
       "    .dataframe tbody tr th:only-of-type {\n",
       "        vertical-align: middle;\n",
       "    }\n",
       "\n",
       "    .dataframe tbody tr th {\n",
       "        vertical-align: top;\n",
       "    }\n",
       "\n",
       "    .dataframe thead th {\n",
       "        text-align: right;\n",
       "    }\n",
       "</style>\n",
       "<table border=\"1\" class=\"dataframe\">\n",
       "  <thead>\n",
       "    <tr style=\"text-align: right;\">\n",
       "      <th></th>\n",
       "      <th>id</th>\n",
       "      <th>nome</th>\n",
       "      <th>agregados</th>\n",
       "    </tr>\n",
       "  </thead>\n",
       "  <tbody>\n",
       "    <tr>\n",
       "      <th>0</th>\n",
       "      <td>D5</td>\n",
       "      <td>Áreas Urbanizadas</td>\n",
       "      <td>[{'id': '8418', 'nome': 'Áreas urbanizadas, Lo...</td>\n",
       "    </tr>\n",
       "    <tr>\n",
       "      <th>1</th>\n",
       "      <td>CL</td>\n",
       "      <td>Cadastro Central de Empresas</td>\n",
       "      <td>[{'id': '1732', 'nome': 'Dados gerais das empr...</td>\n",
       "    </tr>\n",
       "    <tr>\n",
       "      <th>2</th>\n",
       "      <td>CA</td>\n",
       "      <td>Censo Agropecuário</td>\n",
       "      <td>[{'id': '1278', 'nome': 'Agroindústria rural n...</td>\n",
       "    </tr>\n",
       "    <tr>\n",
       "      <th>3</th>\n",
       "      <td>ME</td>\n",
       "      <td>Censo Comum do Mercosul, Bolívia e Chile</td>\n",
       "      <td>[{'id': '2059', 'nome': 'Domicílios e Populaçã...</td>\n",
       "    </tr>\n",
       "    <tr>\n",
       "      <th>4</th>\n",
       "      <td>CD</td>\n",
       "      <td>Censo Demográfico</td>\n",
       "      <td>[{'id': '1301', 'nome': 'Área e Densidade demo...</td>\n",
       "    </tr>\n",
       "    <tr>\n",
       "      <th>...</th>\n",
       "      <td>...</td>\n",
       "      <td>...</td>\n",
       "      <td>...</td>\n",
       "    </tr>\n",
       "    <tr>\n",
       "      <th>62</th>\n",
       "      <td>VS</td>\n",
       "      <td>Produção da Extração Vegetal e da Silvicultura</td>\n",
       "      <td>[{'id': '5930', 'nome': 'Área total existente ...</td>\n",
       "    </tr>\n",
       "    <tr>\n",
       "      <th>63</th>\n",
       "      <td>PO</td>\n",
       "      <td>Produção de Ovos de Galinha</td>\n",
       "      <td>[{'id': '915', 'nome': 'Número de informantes,...</td>\n",
       "    </tr>\n",
       "    <tr>\n",
       "      <th>64</th>\n",
       "      <td>IO</td>\n",
       "      <td>Produto Interno Bruto dos Municípios</td>\n",
       "      <td>[{'id': '599', 'nome': 'Índice de Gini do prod...</td>\n",
       "    </tr>\n",
       "    <tr>\n",
       "      <th>65</th>\n",
       "      <td>XE</td>\n",
       "      <td>Projeção da População</td>\n",
       "      <td>[{'id': '7362', 'nome': 'Esperança de vida ao ...</td>\n",
       "    </tr>\n",
       "    <tr>\n",
       "      <th>66</th>\n",
       "      <td>SI</td>\n",
       "      <td>Sistema Nacional de Pesquisa de Custos e Índic...</td>\n",
       "      <td>[{'id': '33', 'nome': 'Custo de projeto m², po...</td>\n",
       "    </tr>\n",
       "  </tbody>\n",
       "</table>\n",
       "<p>67 rows × 3 columns</p>\n",
       "</div>"
      ],
      "text/plain": [
       "    id                                               nome  \\\n",
       "0   D5                                  Áreas Urbanizadas   \n",
       "1   CL                       Cadastro Central de Empresas   \n",
       "2   CA                                 Censo Agropecuário   \n",
       "3   ME           Censo Comum do Mercosul, Bolívia e Chile   \n",
       "4   CD                                  Censo Demográfico   \n",
       "..  ..                                                ...   \n",
       "62  VS     Produção da Extração Vegetal e da Silvicultura   \n",
       "63  PO                        Produção de Ovos de Galinha   \n",
       "64  IO               Produto Interno Bruto dos Municípios   \n",
       "65  XE                              Projeção da População   \n",
       "66  SI  Sistema Nacional de Pesquisa de Custos e Índic...   \n",
       "\n",
       "                                            agregados  \n",
       "0   [{'id': '8418', 'nome': 'Áreas urbanizadas, Lo...  \n",
       "1   [{'id': '1732', 'nome': 'Dados gerais das empr...  \n",
       "2   [{'id': '1278', 'nome': 'Agroindústria rural n...  \n",
       "3   [{'id': '2059', 'nome': 'Domicílios e Populaçã...  \n",
       "4   [{'id': '1301', 'nome': 'Área e Densidade demo...  \n",
       "..                                                ...  \n",
       "62  [{'id': '5930', 'nome': 'Área total existente ...  \n",
       "63  [{'id': '915', 'nome': 'Número de informantes,...  \n",
       "64  [{'id': '599', 'nome': 'Índice de Gini do prod...  \n",
       "65  [{'id': '7362', 'nome': 'Esperança de vida ao ...  \n",
       "66  [{'id': '33', 'nome': 'Custo de projeto m², po...  \n",
       "\n",
       "[67 rows x 3 columns]"
      ]
     },
     "execution_count": 2,
     "metadata": {},
     "output_type": "execute_result"
    }
   ],
   "source": [
    "url = 'https://servicodados.ibge.gov.br/api/v3/agregados'\n",
    "df_pesquisa = make_df(get_request_json(url))\n",
    "df_pesquisa"
   ]
  },
  {
   "attachments": {},
   "cell_type": "markdown",
   "metadata": {},
   "source": [
    "### Áreas Urbanizadas"
   ]
  },
  {
   "cell_type": "code",
   "execution_count": 3,
   "metadata": {},
   "outputs": [
    {
     "data": {
      "text/html": [
       "<div>\n",
       "<style scoped>\n",
       "    .dataframe tbody tr th:only-of-type {\n",
       "        vertical-align: middle;\n",
       "    }\n",
       "\n",
       "    .dataframe tbody tr th {\n",
       "        vertical-align: top;\n",
       "    }\n",
       "\n",
       "    .dataframe thead th {\n",
       "        text-align: right;\n",
       "    }\n",
       "</style>\n",
       "<table border=\"1\" class=\"dataframe\">\n",
       "  <thead>\n",
       "    <tr style=\"text-align: right;\">\n",
       "      <th></th>\n",
       "      <th>id</th>\n",
       "      <th>nome</th>\n",
       "      <th>agregados</th>\n",
       "    </tr>\n",
       "  </thead>\n",
       "  <tbody>\n",
       "    <tr>\n",
       "      <th>0</th>\n",
       "      <td>D5</td>\n",
       "      <td>Áreas Urbanizadas</td>\n",
       "      <td>[{'id': '8418', 'nome': 'Áreas urbanizadas, Lo...</td>\n",
       "    </tr>\n",
       "  </tbody>\n",
       "</table>\n",
       "</div>"
      ],
      "text/plain": [
       "   id               nome                                          agregados\n",
       "0  D5  Áreas Urbanizadas  [{'id': '8418', 'nome': 'Áreas urbanizadas, Lo..."
      ]
     },
     "execution_count": 3,
     "metadata": {},
     "output_type": "execute_result"
    }
   ],
   "source": [
    "df_d5 = df_pesquisa.iloc[[0]]\n",
    "#df_d5 = df_cd.explode('agregados')\n",
    "df_d5"
   ]
  },
  {
   "cell_type": "code",
   "execution_count": 4,
   "metadata": {},
   "outputs": [
    {
     "data": {
      "text/plain": [
       "[{'id': '8418',\n",
       "  'nome': 'Áreas urbanizadas, Loteamento vazio, Área total mapeada e Subcategorias'}]"
      ]
     },
     "execution_count": 4,
     "metadata": {},
     "output_type": "execute_result"
    }
   ],
   "source": [
    "df_d5['agregados'][0]"
   ]
  },
  {
   "attachments": {},
   "cell_type": "markdown",
   "metadata": {},
   "source": [
    "### Censo Demográfico"
   ]
  },
  {
   "cell_type": "code",
   "execution_count": 5,
   "metadata": {},
   "outputs": [
    {
     "data": {
      "text/html": [
       "<div>\n",
       "<style scoped>\n",
       "    .dataframe tbody tr th:only-of-type {\n",
       "        vertical-align: middle;\n",
       "    }\n",
       "\n",
       "    .dataframe tbody tr th {\n",
       "        vertical-align: top;\n",
       "    }\n",
       "\n",
       "    .dataframe thead th {\n",
       "        text-align: right;\n",
       "    }\n",
       "</style>\n",
       "<table border=\"1\" class=\"dataframe\">\n",
       "  <thead>\n",
       "    <tr style=\"text-align: right;\">\n",
       "      <th></th>\n",
       "      <th>index</th>\n",
       "      <th>id</th>\n",
       "      <th>nome</th>\n",
       "      <th>agregados</th>\n",
       "    </tr>\n",
       "  </thead>\n",
       "  <tbody>\n",
       "    <tr>\n",
       "      <th>0</th>\n",
       "      <td>4</td>\n",
       "      <td>CD</td>\n",
       "      <td>Censo Demográfico</td>\n",
       "      <td>{'id': '1301', 'nome': 'Área e Densidade demog...</td>\n",
       "    </tr>\n",
       "    <tr>\n",
       "      <th>1</th>\n",
       "      <td>4</td>\n",
       "      <td>CD</td>\n",
       "      <td>Censo Demográfico</td>\n",
       "      <td>{'id': '617', 'nome': 'Brasileiros natos por u...</td>\n",
       "    </tr>\n",
       "    <tr>\n",
       "      <th>2</th>\n",
       "      <td>4</td>\n",
       "      <td>CD</td>\n",
       "      <td>Censo Demográfico</td>\n",
       "      <td>{'id': '2149', 'nome': 'Brasileiros natos por ...</td>\n",
       "    </tr>\n",
       "    <tr>\n",
       "      <th>3</th>\n",
       "      <td>4</td>\n",
       "      <td>CD</td>\n",
       "      <td>Censo Demográfico</td>\n",
       "      <td>{'id': '164', 'nome': 'Chefes de domicílios pa...</td>\n",
       "    </tr>\n",
       "    <tr>\n",
       "      <th>4</th>\n",
       "      <td>4</td>\n",
       "      <td>CD</td>\n",
       "      <td>Censo Demográfico</td>\n",
       "      <td>{'id': '171', 'nome': 'Chefes de domicílios pa...</td>\n",
       "    </tr>\n",
       "    <tr>\n",
       "      <th>...</th>\n",
       "      <td>...</td>\n",
       "      <td>...</td>\n",
       "      <td>...</td>\n",
       "      <td>...</td>\n",
       "    </tr>\n",
       "    <tr>\n",
       "      <th>911</th>\n",
       "      <td>4</td>\n",
       "      <td>CD</td>\n",
       "      <td>Censo Demográfico</td>\n",
       "      <td>{'id': '241', 'nome': 'Valor do rendimento nom...</td>\n",
       "    </tr>\n",
       "    <tr>\n",
       "      <th>912</th>\n",
       "      <td>4</td>\n",
       "      <td>CD</td>\n",
       "      <td>Censo Demográfico</td>\n",
       "      <td>{'id': '3283', 'nome': 'Valor do rendimento no...</td>\n",
       "    </tr>\n",
       "    <tr>\n",
       "      <th>913</th>\n",
       "      <td>4</td>\n",
       "      <td>CD</td>\n",
       "      <td>Censo Demográfico</td>\n",
       "      <td>{'id': '3282', 'nome': 'Valor do rendimento no...</td>\n",
       "    </tr>\n",
       "    <tr>\n",
       "      <th>914</th>\n",
       "      <td>4</td>\n",
       "      <td>CD</td>\n",
       "      <td>Censo Demográfico</td>\n",
       "      <td>{'id': '3527', 'nome': 'Valor do rendimento no...</td>\n",
       "    </tr>\n",
       "    <tr>\n",
       "      <th>915</th>\n",
       "      <td>4</td>\n",
       "      <td>CD</td>\n",
       "      <td>Censo Demográfico</td>\n",
       "      <td>{'id': '3514', 'nome': 'Valor do rendimento no...</td>\n",
       "    </tr>\n",
       "  </tbody>\n",
       "</table>\n",
       "<p>916 rows × 4 columns</p>\n",
       "</div>"
      ],
      "text/plain": [
       "     index  id               nome  \\\n",
       "0        4  CD  Censo Demográfico   \n",
       "1        4  CD  Censo Demográfico   \n",
       "2        4  CD  Censo Demográfico   \n",
       "3        4  CD  Censo Demográfico   \n",
       "4        4  CD  Censo Demográfico   \n",
       "..     ...  ..                ...   \n",
       "911      4  CD  Censo Demográfico   \n",
       "912      4  CD  Censo Demográfico   \n",
       "913      4  CD  Censo Demográfico   \n",
       "914      4  CD  Censo Demográfico   \n",
       "915      4  CD  Censo Demográfico   \n",
       "\n",
       "                                             agregados  \n",
       "0    {'id': '1301', 'nome': 'Área e Densidade demog...  \n",
       "1    {'id': '617', 'nome': 'Brasileiros natos por u...  \n",
       "2    {'id': '2149', 'nome': 'Brasileiros natos por ...  \n",
       "3    {'id': '164', 'nome': 'Chefes de domicílios pa...  \n",
       "4    {'id': '171', 'nome': 'Chefes de domicílios pa...  \n",
       "..                                                 ...  \n",
       "911  {'id': '241', 'nome': 'Valor do rendimento nom...  \n",
       "912  {'id': '3283', 'nome': 'Valor do rendimento no...  \n",
       "913  {'id': '3282', 'nome': 'Valor do rendimento no...  \n",
       "914  {'id': '3527', 'nome': 'Valor do rendimento no...  \n",
       "915  {'id': '3514', 'nome': 'Valor do rendimento no...  \n",
       "\n",
       "[916 rows x 4 columns]"
      ]
     },
     "execution_count": 5,
     "metadata": {},
     "output_type": "execute_result"
    }
   ],
   "source": [
    "df_cd = df_pesquisa.iloc[[4]]\n",
    "df_cd = df_cd.explode('agregados')\n",
    "df_cd = df_cd.reset_index()\n",
    "df_cd"
   ]
  },
  {
   "cell_type": "code",
   "execution_count": 6,
   "metadata": {},
   "outputs": [
    {
     "data": {
      "text/plain": [
       "0    {'id': '1301', 'nome': 'Área e Densidade demog...\n",
       "Name: agregados, dtype: object"
      ]
     },
     "execution_count": 6,
     "metadata": {},
     "output_type": "execute_result"
    }
   ],
   "source": [
    "df_cd.iloc[[0]]['agregados']"
   ]
  },
  {
   "cell_type": "code",
   "execution_count": 7,
   "metadata": {},
   "outputs": [
    {
     "data": {
      "text/plain": [
       "1    {'id': '617', 'nome': 'Brasileiros natos por u...\n",
       "Name: agregados, dtype: object"
      ]
     },
     "execution_count": 7,
     "metadata": {},
     "output_type": "execute_result"
    }
   ],
   "source": [
    "df_cd.iloc[[1]]['agregados']"
   ]
  },
  {
   "attachments": {},
   "cell_type": "markdown",
   "metadata": {},
   "source": [
    "## Normaliza todos os Carregados"
   ]
  },
  {
   "attachments": {},
   "cell_type": "markdown",
   "metadata": {},
   "source": [
    "## Script de Carga"
   ]
  },
  {
   "cell_type": "code",
   "execution_count": 8,
   "metadata": {},
   "outputs": [
    {
     "name": "stdout",
     "output_type": "stream",
     "text": [
      "CPU times: total: 0 ns\n",
      "Wall time: 0 ns\n"
     ]
    }
   ],
   "source": [
    "%%time\n",
    "pass"
   ]
  },
  {
   "attachments": {},
   "cell_type": "markdown",
   "metadata": {},
   "source": [
    "## Metadados"
   ]
  },
  {
   "cell_type": "code",
   "execution_count": 12,
   "metadata": {},
   "outputs": [
    {
     "data": {
      "text/plain": [
       "'https://servicodados.ibge.gov.br/api/v3/agregados/1301/metadados'"
      ]
     },
     "execution_count": 12,
     "metadata": {},
     "output_type": "execute_result"
    }
   ],
   "source": [
    "agregado = 1301\n",
    "url_metadata = f\"https://servicodados.ibge.gov.br/api/v3/agregados/{agregado}/metadados\"\n",
    "url_metadata"
   ]
  },
  {
   "attachments": {},
   "cell_type": "markdown",
   "metadata": {},
   "source": [
    "## Rascunho URL"
   ]
  },
  {
   "attachments": {},
   "cell_type": "markdown",
   "metadata": {},
   "source": [
    "é preciso variar a URL de acordo com o agregado e o nível da localidade"
   ]
  },
  {
   "cell_type": "code",
   "execution_count": 13,
   "metadata": {},
   "outputs": [
    {
     "data": {
      "text/plain": [
       "[{'id': '12747',\n",
       "  'variavel': 'Áreas urbanizadas densas',\n",
       "  'unidade': 'Quilômetros quadrados',\n",
       "  'resultados': [{'classificacoes': [],\n",
       "    'series': [{'localidade': {'id': '1',\n",
       "       'nivel': {'id': 'N2', 'nome': 'Grande Região'},\n",
       "       'nome': 'Norte'},\n",
       "      'serie': {'2019': '2810.76'}},\n",
       "     {'localidade': {'id': '2',\n",
       "       'nivel': {'id': 'N2', 'nome': 'Grande Região'},\n",
       "       'nome': 'Nordeste'},\n",
       "      'serie': {'2019': '8218.07'}},\n",
       "     {'localidade': {'id': '3',\n",
       "       'nivel': {'id': 'N2', 'nome': 'Grande Região'},\n",
       "       'nome': 'Sudeste'},\n",
       "      'serie': {'2019': '13968.69'}},\n",
       "     {'localidade': {'id': '4',\n",
       "       'nivel': {'id': 'N2', 'nome': 'Grande Região'},\n",
       "       'nome': 'Sul'},\n",
       "      'serie': {'2019': '8033.19'}},\n",
       "     {'localidade': {'id': '5',\n",
       "       'nivel': {'id': 'N2', 'nome': 'Grande Região'},\n",
       "       'nome': 'Centro-Oeste'},\n",
       "      'serie': {'2019': '3735.56'}}]}]},\n",
       " {'id': '12748',\n",
       "  'variavel': 'Áreas urbanizadas pouco densas',\n",
       "  'unidade': 'Quilômetros quadrados',\n",
       "  'resultados': [{'classificacoes': [],\n",
       "    'series': [{'localidade': {'id': '1',\n",
       "       'nivel': {'id': 'N2', 'nome': 'Grande Região'},\n",
       "       'nome': 'Norte'},\n",
       "      'serie': {'2019': '1286.83'}},\n",
       "     {'localidade': {'id': '2',\n",
       "       'nivel': {'id': 'N2', 'nome': 'Grande Região'},\n",
       "       'nome': 'Nordeste'},\n",
       "      'serie': {'2019': '2596.68'}},\n",
       "     {'localidade': {'id': '3',\n",
       "       'nivel': {'id': 'N2', 'nome': 'Grande Região'},\n",
       "       'nome': 'Sudeste'},\n",
       "      'serie': {'2019': '2901.27'}},\n",
       "     {'localidade': {'id': '4',\n",
       "       'nivel': {'id': 'N2', 'nome': 'Grande Região'},\n",
       "       'nome': 'Sul'},\n",
       "      'serie': {'2019': '1447.19'}},\n",
       "     {'localidade': {'id': '5',\n",
       "       'nivel': {'id': 'N2', 'nome': 'Grande Região'},\n",
       "       'nome': 'Centro-Oeste'},\n",
       "      'serie': {'2019': '945.97'}}]}]},\n",
       " {'id': '12749',\n",
       "  'variavel': 'Total de áreas urbanizadas',\n",
       "  'unidade': 'Quilômetros quadrados',\n",
       "  'resultados': [{'classificacoes': [],\n",
       "    'series': [{'localidade': {'id': '1',\n",
       "       'nivel': {'id': 'N2', 'nome': 'Grande Região'},\n",
       "       'nome': 'Norte'},\n",
       "      'serie': {'2019': '4097.59'}},\n",
       "     {'localidade': {'id': '2',\n",
       "       'nivel': {'id': 'N2', 'nome': 'Grande Região'},\n",
       "       'nome': 'Nordeste'},\n",
       "      'serie': {'2019': '10814.75'}},\n",
       "     {'localidade': {'id': '3',\n",
       "       'nivel': {'id': 'N2', 'nome': 'Grande Região'},\n",
       "       'nome': 'Sudeste'},\n",
       "      'serie': {'2019': '16869.95'}},\n",
       "     {'localidade': {'id': '4',\n",
       "       'nivel': {'id': 'N2', 'nome': 'Grande Região'},\n",
       "       'nome': 'Sul'},\n",
       "      'serie': {'2019': '9480.38'}},\n",
       "     {'localidade': {'id': '5',\n",
       "       'nivel': {'id': 'N2', 'nome': 'Grande Região'},\n",
       "       'nome': 'Centro-Oeste'},\n",
       "      'serie': {'2019': '4681.53'}}]}]},\n",
       " {'id': '12750',\n",
       "  'variavel': 'Loteamento vazio',\n",
       "  'unidade': 'Quilômetros quadrados',\n",
       "  'resultados': [{'classificacoes': [],\n",
       "    'series': [{'localidade': {'id': '1',\n",
       "       'nivel': {'id': 'N2', 'nome': 'Grande Região'},\n",
       "       'nome': 'Norte'},\n",
       "      'serie': {'2019': '194.24'}},\n",
       "     {'localidade': {'id': '2',\n",
       "       'nivel': {'id': 'N2', 'nome': 'Grande Região'},\n",
       "       'nome': 'Nordeste'},\n",
       "      'serie': {'2019': '826.19'}},\n",
       "     {'localidade': {'id': '3',\n",
       "       'nivel': {'id': 'N2', 'nome': 'Grande Região'},\n",
       "       'nome': 'Sudeste'},\n",
       "      'serie': {'2019': '646.18'}},\n",
       "     {'localidade': {'id': '4',\n",
       "       'nivel': {'id': 'N2', 'nome': 'Grande Região'},\n",
       "       'nome': 'Sul'},\n",
       "      'serie': {'2019': '184.49'}},\n",
       "     {'localidade': {'id': '5',\n",
       "       'nivel': {'id': 'N2', 'nome': 'Grande Região'},\n",
       "       'nome': 'Centro-Oeste'},\n",
       "      'serie': {'2019': '256.86'}}]}]},\n",
       " {'id': '12751',\n",
       "  'variavel': 'Área total mapeada',\n",
       "  'unidade': 'Quilômetros quadrados',\n",
       "  'resultados': [{'classificacoes': [],\n",
       "    'series': [{'localidade': {'id': '1',\n",
       "       'nivel': {'id': 'N2', 'nome': 'Grande Região'},\n",
       "       'nome': 'Norte'},\n",
       "      'serie': {'2019': '4291.83'}},\n",
       "     {'localidade': {'id': '2',\n",
       "       'nivel': {'id': 'N2', 'nome': 'Grande Região'},\n",
       "       'nome': 'Nordeste'},\n",
       "      'serie': {'2019': '11640.94'}},\n",
       "     {'localidade': {'id': '3',\n",
       "       'nivel': {'id': 'N2', 'nome': 'Grande Região'},\n",
       "       'nome': 'Sudeste'},\n",
       "      'serie': {'2019': '17516.14'}},\n",
       "     {'localidade': {'id': '4',\n",
       "       'nivel': {'id': 'N2', 'nome': 'Grande Região'},\n",
       "       'nome': 'Sul'},\n",
       "      'serie': {'2019': '9664.86'}},\n",
       "     {'localidade': {'id': '5',\n",
       "       'nivel': {'id': 'N2', 'nome': 'Grande Região'},\n",
       "       'nome': 'Centro-Oeste'},\n",
       "      'serie': {'2019': '4938.39'}}]}]},\n",
       " {'id': '12752',\n",
       "  'variavel': 'Outros equipamentos urbanos',\n",
       "  'unidade': 'Quilômetros quadrados',\n",
       "  'resultados': [{'classificacoes': [],\n",
       "    'series': [{'localidade': {'id': '1',\n",
       "       'nivel': {'id': 'N2', 'nome': 'Grande Região'},\n",
       "       'nome': 'Norte'},\n",
       "      'serie': {'2019': '160.96'}},\n",
       "     {'localidade': {'id': '2',\n",
       "       'nivel': {'id': 'N2', 'nome': 'Grande Região'},\n",
       "       'nome': 'Nordeste'},\n",
       "      'serie': {'2019': '382.74'}},\n",
       "     {'localidade': {'id': '3',\n",
       "       'nivel': {'id': 'N2', 'nome': 'Grande Região'},\n",
       "       'nome': 'Sudeste'},\n",
       "      'serie': {'2019': '810.53'}},\n",
       "     {'localidade': {'id': '4',\n",
       "       'nivel': {'id': 'N2', 'nome': 'Grande Região'},\n",
       "       'nome': 'Sul'},\n",
       "      'serie': {'2019': '606.24'}},\n",
       "     {'localidade': {'id': '5',\n",
       "       'nivel': {'id': 'N2', 'nome': 'Grande Região'},\n",
       "       'nome': 'Centro-Oeste'},\n",
       "      'serie': {'2019': '327.25'}}]}]},\n",
       " {'id': '12753',\n",
       "  'variavel': 'Vazios intraurbanos',\n",
       "  'unidade': 'Quilômetros quadrados',\n",
       "  'resultados': [{'classificacoes': [],\n",
       "    'series': [{'localidade': {'id': '1',\n",
       "       'nivel': {'id': 'N2', 'nome': 'Grande Região'},\n",
       "       'nome': 'Norte'},\n",
       "      'serie': {'2019': '17.67'}},\n",
       "     {'localidade': {'id': '2',\n",
       "       'nivel': {'id': 'N2', 'nome': 'Grande Região'},\n",
       "       'nome': 'Nordeste'},\n",
       "      'serie': {'2019': '64.22'}},\n",
       "     {'localidade': {'id': '3',\n",
       "       'nivel': {'id': 'N2', 'nome': 'Grande Região'},\n",
       "       'nome': 'Sudeste'},\n",
       "      'serie': {'2019': '165.87'}},\n",
       "     {'localidade': {'id': '4',\n",
       "       'nivel': {'id': 'N2', 'nome': 'Grande Região'},\n",
       "       'nome': 'Sul'},\n",
       "      'serie': {'2019': '75.75'}},\n",
       "     {'localidade': {'id': '5',\n",
       "       'nivel': {'id': 'N2', 'nome': 'Grande Região'},\n",
       "       'nome': 'Centro-Oeste'},\n",
       "      'serie': {'2019': '46.89'}}]}]},\n",
       " {'id': '12754',\n",
       "  'variavel': 'Vazios remanescentes',\n",
       "  'unidade': 'Quilômetros quadrados',\n",
       "  'resultados': [{'classificacoes': [],\n",
       "    'series': [{'localidade': {'id': '1',\n",
       "       'nivel': {'id': 'N2', 'nome': 'Grande Região'},\n",
       "       'nome': 'Norte'},\n",
       "      'serie': {'2019': '1.63'}},\n",
       "     {'localidade': {'id': '2',\n",
       "       'nivel': {'id': 'N2', 'nome': 'Grande Região'},\n",
       "       'nome': 'Nordeste'},\n",
       "      'serie': {'2019': '2.17'}},\n",
       "     {'localidade': {'id': '3',\n",
       "       'nivel': {'id': 'N2', 'nome': 'Grande Região'},\n",
       "       'nome': 'Sudeste'},\n",
       "      'serie': {'2019': '6.37'}},\n",
       "     {'localidade': {'id': '4',\n",
       "       'nivel': {'id': 'N2', 'nome': 'Grande Região'},\n",
       "       'nome': 'Sul'},\n",
       "      'serie': {'2019': '7.87'}},\n",
       "     {'localidade': {'id': '5',\n",
       "       'nivel': {'id': 'N2', 'nome': 'Grande Região'},\n",
       "       'nome': 'Centro-Oeste'},\n",
       "      'serie': {'2019': '0.50'}}]}]}]"
      ]
     },
     "execution_count": 13,
     "metadata": {},
     "output_type": "execute_result"
    }
   ],
   "source": [
    "url = 'https://servicodados.ibge.gov.br/api/v3/agregados/8418/variaveis?localidades=N2[all]' \n",
    "get_request_json(url)"
   ]
  },
  {
   "cell_type": "code",
   "execution_count": null,
   "metadata": {},
   "outputs": [],
   "source": []
  }
 ],
 "metadata": {
  "kernelspec": {
   "display_name": "Python 3.11.3 64-bit",
   "metadata": {
    "interpreter": {
     "hash": "1f9cc8cd99bde4ad34d9e4c5506bdcfbd0680e8eab8faedc4eaff1ddda369bb1"
    }
   },
   "name": "python3"
  },
  "language_info": {
   "codemirror_mode": {
    "name": "ipython",
    "version": 3
   },
   "file_extension": ".py",
   "mimetype": "text/x-python",
   "name": "python",
   "nbconvert_exporter": "python",
   "pygments_lexer": "ipython3",
   "version": "3.9.5"
  },
  "orig_nbformat": 2
 },
 "nbformat": 4,
 "nbformat_minor": 2
}
