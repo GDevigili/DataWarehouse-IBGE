{
 "cells": [
  {
   "cell_type": "code",
   "execution_count": 2,
   "metadata": {},
   "outputs": [],
   "source": [
    "import requests\r\n",
    "import json\r\n",
    "import sys\r\n",
    "\r\n",
    "sys.path.append('..')\r\n",
    "\r\n",
    "# Data Manipulation\r\n",
    "import pandas as pd\r\n",
    "\r\n",
    "from utils import *"
   ]
  },
  {
   "cell_type": "markdown",
   "metadata": {},
   "source": [
    "# Agregados"
   ]
  },
  {
   "cell_type": "code",
   "execution_count": 4,
   "metadata": {},
   "outputs": [
    {
     "data": {
      "text/html": "<div>\n<style scoped>\n    .dataframe tbody tr th:only-of-type {\n        vertical-align: middle;\n    }\n\n    .dataframe tbody tr th {\n        vertical-align: top;\n    }\n\n    .dataframe thead th {\n        text-align: right;\n    }\n</style>\n<table border=\"1\" class=\"dataframe\">\n  <thead>\n    <tr style=\"text-align: right;\">\n      <th></th>\n      <th>id</th>\n      <th>nome</th>\n      <th>agregados</th>\n    </tr>\n  </thead>\n  <tbody>\n    <tr>\n      <th>0</th>\n      <td>D5</td>\n      <td>Áreas Urbanizadas</td>\n      <td>[{'id': '8418', 'nome': 'Áreas urbanizadas, Lo...</td>\n    </tr>\n    <tr>\n      <th>1</th>\n      <td>CL</td>\n      <td>Cadastro Central de Empresas</td>\n      <td>[{'id': '1732', 'nome': 'Dados gerais das empr...</td>\n    </tr>\n    <tr>\n      <th>2</th>\n      <td>CA</td>\n      <td>Censo Agropecuário</td>\n      <td>[{'id': '1278', 'nome': 'Agroindústria rural n...</td>\n    </tr>\n    <tr>\n      <th>3</th>\n      <td>ME</td>\n      <td>Censo Comum do Mercosul, Bolívia e Chile</td>\n      <td>[{'id': '2059', 'nome': 'Domicílios e Populaçã...</td>\n    </tr>\n    <tr>\n      <th>4</th>\n      <td>CD</td>\n      <td>Censo Demográfico</td>\n      <td>[{'id': '1301', 'nome': 'Área e Densidade demo...</td>\n    </tr>\n    <tr>\n      <th>...</th>\n      <td>...</td>\n      <td>...</td>\n      <td>...</td>\n    </tr>\n    <tr>\n      <th>62</th>\n      <td>VS</td>\n      <td>Produção da Extração Vegetal e da Silvicultura</td>\n      <td>[{'id': '5930', 'nome': 'Área total existente ...</td>\n    </tr>\n    <tr>\n      <th>63</th>\n      <td>PO</td>\n      <td>Produção de Ovos de Galinha</td>\n      <td>[{'id': '915', 'nome': 'Número de informantes,...</td>\n    </tr>\n    <tr>\n      <th>64</th>\n      <td>IO</td>\n      <td>Produto Interno Bruto dos Municípios</td>\n      <td>[{'id': '599', 'nome': 'Índice de Gini do prod...</td>\n    </tr>\n    <tr>\n      <th>65</th>\n      <td>XE</td>\n      <td>Projeção da População</td>\n      <td>[{'id': '7362', 'nome': 'Esperança de vida ao ...</td>\n    </tr>\n    <tr>\n      <th>66</th>\n      <td>SI</td>\n      <td>Sistema Nacional de Pesquisa de Custos e Índic...</td>\n      <td>[{'id': '33', 'nome': 'Custo de projeto m², po...</td>\n    </tr>\n  </tbody>\n</table>\n<p>67 rows × 3 columns</p>\n</div>",
      "text/plain": "    id                                               nome   \n0   D5                                  Áreas Urbanizadas  \\\n1   CL                       Cadastro Central de Empresas   \n2   CA                                 Censo Agropecuário   \n3   ME           Censo Comum do Mercosul, Bolívia e Chile   \n4   CD                                  Censo Demográfico   \n..  ..                                                ...   \n62  VS     Produção da Extração Vegetal e da Silvicultura   \n63  PO                        Produção de Ovos de Galinha   \n64  IO               Produto Interno Bruto dos Municípios   \n65  XE                              Projeção da População   \n66  SI  Sistema Nacional de Pesquisa de Custos e Índic...   \n\n                                            agregados  \n0   [{'id': '8418', 'nome': 'Áreas urbanizadas, Lo...  \n1   [{'id': '1732', 'nome': 'Dados gerais das empr...  \n2   [{'id': '1278', 'nome': 'Agroindústria rural n...  \n3   [{'id': '2059', 'nome': 'Domicílios e Populaçã...  \n4   [{'id': '1301', 'nome': 'Área e Densidade demo...  \n..                                                ...  \n62  [{'id': '5930', 'nome': 'Área total existente ...  \n63  [{'id': '915', 'nome': 'Número de informantes,...  \n64  [{'id': '599', 'nome': 'Índice de Gini do prod...  \n65  [{'id': '7362', 'nome': 'Esperança de vida ao ...  \n66  [{'id': '33', 'nome': 'Custo de projeto m², po...  \n\n[67 rows x 3 columns]"
     },
     "execution_count": 4,
     "metadata": {},
     "output_type": "execute_result"
    }
   ],
   "source": [
    "url = 'https://servicodados.ibge.gov.br/api/v3/agregados'\r\n",
    "df_agregados = make_df(get_request_json(url))\r\n",
    "df_agregados"
   ]
  },
  {
   "cell_type": "markdown",
   "metadata": {},
   "source": [
    "### Áreas Urbanizadas"
   ]
  },
  {
   "cell_type": "code",
   "execution_count": 26,
   "metadata": {},
   "outputs": [
    {
     "data": {
      "text/html": "<div>\n<style scoped>\n    .dataframe tbody tr th:only-of-type {\n        vertical-align: middle;\n    }\n\n    .dataframe tbody tr th {\n        vertical-align: top;\n    }\n\n    .dataframe thead th {\n        text-align: right;\n    }\n</style>\n<table border=\"1\" class=\"dataframe\">\n  <thead>\n    <tr style=\"text-align: right;\">\n      <th></th>\n      <th>id</th>\n      <th>nome</th>\n      <th>agregados</th>\n    </tr>\n  </thead>\n  <tbody>\n    <tr>\n      <th>0</th>\n      <td>D5</td>\n      <td>Áreas Urbanizadas</td>\n      <td>[{'id': '8418', 'nome': 'Áreas urbanizadas, Lo...</td>\n    </tr>\n  </tbody>\n</table>\n</div>",
      "text/plain": "   id               nome                                          agregados\n0  D5  Áreas Urbanizadas  [{'id': '8418', 'nome': 'Áreas urbanizadas, Lo..."
     },
     "execution_count": 26,
     "metadata": {},
     "output_type": "execute_result"
    }
   ],
   "source": [
    "df_d5 = df_agregados.iloc[[0]]\r\n",
    "#df_d5 = df_cd.explode('agregados')\r\n",
    "df_d5"
   ]
  },
  {
   "cell_type": "code",
   "execution_count": 28,
   "metadata": {},
   "outputs": [
    {
     "data": {
      "text/plain": "[{'id': '8418',\n  'nome': 'Áreas urbanizadas, Loteamento vazio, Área total mapeada e Subcategorias'}]"
     },
     "execution_count": 28,
     "metadata": {},
     "output_type": "execute_result"
    }
   ],
   "source": [
    "df_d5['agregados'][0]"
   ]
  },
  {
   "cell_type": "markdown",
   "metadata": {},
   "source": [
    "### Censo Demográfico"
   ]
  },
  {
   "cell_type": "code",
   "execution_count": 31,
   "metadata": {},
   "outputs": [
    {
     "data": {
      "text/html": "<div>\n<style scoped>\n    .dataframe tbody tr th:only-of-type {\n        vertical-align: middle;\n    }\n\n    .dataframe tbody tr th {\n        vertical-align: top;\n    }\n\n    .dataframe thead th {\n        text-align: right;\n    }\n</style>\n<table border=\"1\" class=\"dataframe\">\n  <thead>\n    <tr style=\"text-align: right;\">\n      <th></th>\n      <th>index</th>\n      <th>id</th>\n      <th>nome</th>\n      <th>agregados</th>\n    </tr>\n  </thead>\n  <tbody>\n    <tr>\n      <th>0</th>\n      <td>4</td>\n      <td>CD</td>\n      <td>Censo Demográfico</td>\n      <td>{'id': '1301', 'nome': 'Área e Densidade demog...</td>\n    </tr>\n    <tr>\n      <th>1</th>\n      <td>4</td>\n      <td>CD</td>\n      <td>Censo Demográfico</td>\n      <td>{'id': '617', 'nome': 'Brasileiros natos por u...</td>\n    </tr>\n    <tr>\n      <th>2</th>\n      <td>4</td>\n      <td>CD</td>\n      <td>Censo Demográfico</td>\n      <td>{'id': '2149', 'nome': 'Brasileiros natos por ...</td>\n    </tr>\n    <tr>\n      <th>3</th>\n      <td>4</td>\n      <td>CD</td>\n      <td>Censo Demográfico</td>\n      <td>{'id': '164', 'nome': 'Chefes de domicílios pa...</td>\n    </tr>\n    <tr>\n      <th>4</th>\n      <td>4</td>\n      <td>CD</td>\n      <td>Censo Demográfico</td>\n      <td>{'id': '171', 'nome': 'Chefes de domicílios pa...</td>\n    </tr>\n    <tr>\n      <th>...</th>\n      <td>...</td>\n      <td>...</td>\n      <td>...</td>\n      <td>...</td>\n    </tr>\n    <tr>\n      <th>911</th>\n      <td>4</td>\n      <td>CD</td>\n      <td>Censo Demográfico</td>\n      <td>{'id': '241', 'nome': 'Valor do rendimento nom...</td>\n    </tr>\n    <tr>\n      <th>912</th>\n      <td>4</td>\n      <td>CD</td>\n      <td>Censo Demográfico</td>\n      <td>{'id': '3283', 'nome': 'Valor do rendimento no...</td>\n    </tr>\n    <tr>\n      <th>913</th>\n      <td>4</td>\n      <td>CD</td>\n      <td>Censo Demográfico</td>\n      <td>{'id': '3282', 'nome': 'Valor do rendimento no...</td>\n    </tr>\n    <tr>\n      <th>914</th>\n      <td>4</td>\n      <td>CD</td>\n      <td>Censo Demográfico</td>\n      <td>{'id': '3527', 'nome': 'Valor do rendimento no...</td>\n    </tr>\n    <tr>\n      <th>915</th>\n      <td>4</td>\n      <td>CD</td>\n      <td>Censo Demográfico</td>\n      <td>{'id': '3514', 'nome': 'Valor do rendimento no...</td>\n    </tr>\n  </tbody>\n</table>\n<p>916 rows × 4 columns</p>\n</div>",
      "text/plain": "     index  id               nome   \n0        4  CD  Censo Demográfico  \\\n1        4  CD  Censo Demográfico   \n2        4  CD  Censo Demográfico   \n3        4  CD  Censo Demográfico   \n4        4  CD  Censo Demográfico   \n..     ...  ..                ...   \n911      4  CD  Censo Demográfico   \n912      4  CD  Censo Demográfico   \n913      4  CD  Censo Demográfico   \n914      4  CD  Censo Demográfico   \n915      4  CD  Censo Demográfico   \n\n                                             agregados  \n0    {'id': '1301', 'nome': 'Área e Densidade demog...  \n1    {'id': '617', 'nome': 'Brasileiros natos por u...  \n2    {'id': '2149', 'nome': 'Brasileiros natos por ...  \n3    {'id': '164', 'nome': 'Chefes de domicílios pa...  \n4    {'id': '171', 'nome': 'Chefes de domicílios pa...  \n..                                                 ...  \n911  {'id': '241', 'nome': 'Valor do rendimento nom...  \n912  {'id': '3283', 'nome': 'Valor do rendimento no...  \n913  {'id': '3282', 'nome': 'Valor do rendimento no...  \n914  {'id': '3527', 'nome': 'Valor do rendimento no...  \n915  {'id': '3514', 'nome': 'Valor do rendimento no...  \n\n[916 rows x 4 columns]"
     },
     "execution_count": 31,
     "metadata": {},
     "output_type": "execute_result"
    }
   ],
   "source": [
    "df_cd = df_agregados.iloc[[4]]\r\n",
    "df_cd = df_cd.explode('agregados')\r\n",
    "df_cd = df_cd.reset_index()\r\n",
    "df_cd"
   ]
  },
  {
   "cell_type": "code",
   "execution_count": 33,
   "metadata": {},
   "outputs": [
    {
     "name": "stdout",
     "output_type": "stream",
     "text": [
      "0    {'id': '1301', 'nome': 'Área e Densidade demog...\n",
      "Name: agregados, dtype: object\n"
     ]
    }
   ],
   "source": [
    "df_cd.iloc[[0]]['agregados']"
   ]
  },
  {
   "cell_type": "code",
   "execution_count": null,
   "metadata": {},
   "outputs": [],
   "source": []
  }
 ],
 "metadata": {
  "kernelspec": {
   "display_name": "Python 3.11.3 64-bit",
   "metadata": {
    "interpreter": {
     "hash": "1f9cc8cd99bde4ad34d9e4c5506bdcfbd0680e8eab8faedc4eaff1ddda369bb1"
    }
   },
   "name": "python3"
  },
  "language_info": {
   "codemirror_mode": {
    "name": "ipython",
    "version": 3
   },
   "file_extension": ".py",
   "mimetype": "text/x-python",
   "name": "python",
   "nbconvert_exporter": "python",
   "pygments_lexer": "ipython3",
   "version": "3.11.3"
  },
  "orig_nbformat": 2
 },
 "nbformat": 4,
 "nbformat_minor": 2
}