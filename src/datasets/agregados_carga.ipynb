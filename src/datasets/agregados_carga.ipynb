{
 "cells": [
  {
   "cell_type": "code",
   "execution_count": 1,
   "metadata": {},
   "outputs": [],
   "source": [
    "import requests\r\n",
    "import json\r\n",
    "import sys\r\n",
    "\r\n",
    "sys.path.append('..')\r\n",
    "\r\n",
    "# Data Manipulation\r\n",
    "import pandas as pd\r\n",
    "\r\n",
    "from utils import *"
   ]
  },
  {
   "cell_type": "markdown",
   "metadata": {},
   "source": [
    "# Agregados"
   ]
  },
  {
   "cell_type": "code",
   "execution_count": 2,
   "metadata": {},
   "outputs": [
    {
     "data": {
      "text/html": "<div>\n<style scoped>\n    .dataframe tbody tr th:only-of-type {\n        vertical-align: middle;\n    }\n\n    .dataframe tbody tr th {\n        vertical-align: top;\n    }\n\n    .dataframe thead th {\n        text-align: right;\n    }\n</style>\n<table border=\"1\" class=\"dataframe\">\n  <thead>\n    <tr style=\"text-align: right;\">\n      <th></th>\n      <th>id</th>\n      <th>nome</th>\n      <th>agregados</th>\n    </tr>\n  </thead>\n  <tbody>\n    <tr>\n      <th>0</th>\n      <td>D5</td>\n      <td>Áreas Urbanizadas</td>\n      <td>[{'id': '8418', 'nome': 'Áreas urbanizadas, Lo...</td>\n    </tr>\n    <tr>\n      <th>1</th>\n      <td>CL</td>\n      <td>Cadastro Central de Empresas</td>\n      <td>[{'id': '1732', 'nome': 'Dados gerais das empr...</td>\n    </tr>\n    <tr>\n      <th>2</th>\n      <td>CA</td>\n      <td>Censo Agropecuário</td>\n      <td>[{'id': '1278', 'nome': 'Agroindústria rural n...</td>\n    </tr>\n    <tr>\n      <th>3</th>\n      <td>ME</td>\n      <td>Censo Comum do Mercosul, Bolívia e Chile</td>\n      <td>[{'id': '2059', 'nome': 'Domicílios e Populaçã...</td>\n    </tr>\n    <tr>\n      <th>4</th>\n      <td>CD</td>\n      <td>Censo Demográfico</td>\n      <td>[{'id': '1301', 'nome': 'Área e Densidade demo...</td>\n    </tr>\n    <tr>\n      <th>...</th>\n      <td>...</td>\n      <td>...</td>\n      <td>...</td>\n    </tr>\n    <tr>\n      <th>62</th>\n      <td>VS</td>\n      <td>Produção da Extração Vegetal e da Silvicultura</td>\n      <td>[{'id': '5930', 'nome': 'Área total existente ...</td>\n    </tr>\n    <tr>\n      <th>63</th>\n      <td>PO</td>\n      <td>Produção de Ovos de Galinha</td>\n      <td>[{'id': '915', 'nome': 'Número de informantes,...</td>\n    </tr>\n    <tr>\n      <th>64</th>\n      <td>IO</td>\n      <td>Produto Interno Bruto dos Municípios</td>\n      <td>[{'id': '599', 'nome': 'Índice de Gini do prod...</td>\n    </tr>\n    <tr>\n      <th>65</th>\n      <td>XE</td>\n      <td>Projeção da População</td>\n      <td>[{'id': '7362', 'nome': 'Esperança de vida ao ...</td>\n    </tr>\n    <tr>\n      <th>66</th>\n      <td>SI</td>\n      <td>Sistema Nacional de Pesquisa de Custos e Índic...</td>\n      <td>[{'id': '33', 'nome': 'Custo de projeto m², po...</td>\n    </tr>\n  </tbody>\n</table>\n<p>67 rows × 3 columns</p>\n</div>",
      "text/plain": "    id                                               nome   \n0   D5                                  Áreas Urbanizadas  \\\n1   CL                       Cadastro Central de Empresas   \n2   CA                                 Censo Agropecuário   \n3   ME           Censo Comum do Mercosul, Bolívia e Chile   \n4   CD                                  Censo Demográfico   \n..  ..                                                ...   \n62  VS     Produção da Extração Vegetal e da Silvicultura   \n63  PO                        Produção de Ovos de Galinha   \n64  IO               Produto Interno Bruto dos Municípios   \n65  XE                              Projeção da População   \n66  SI  Sistema Nacional de Pesquisa de Custos e Índic...   \n\n                                            agregados  \n0   [{'id': '8418', 'nome': 'Áreas urbanizadas, Lo...  \n1   [{'id': '1732', 'nome': 'Dados gerais das empr...  \n2   [{'id': '1278', 'nome': 'Agroindústria rural n...  \n3   [{'id': '2059', 'nome': 'Domicílios e Populaçã...  \n4   [{'id': '1301', 'nome': 'Área e Densidade demo...  \n..                                                ...  \n62  [{'id': '5930', 'nome': 'Área total existente ...  \n63  [{'id': '915', 'nome': 'Número de informantes,...  \n64  [{'id': '599', 'nome': 'Índice de Gini do prod...  \n65  [{'id': '7362', 'nome': 'Esperança de vida ao ...  \n66  [{'id': '33', 'nome': 'Custo de projeto m², po...  \n\n[67 rows x 3 columns]"
     },
     "execution_count": 2,
     "metadata": {},
     "output_type": "execute_result"
    }
   ],
   "source": [
    "url = 'https://servicodados.ibge.gov.br/api/v3/agregados'\r\n",
    "df_agregated = make_df(get_request_json(url))\r\n",
    "df_agregated"
   ]
  },
  {
   "cell_type": "code",
   "execution_count": 9,
   "metadata": {},
   "outputs": [
    {
     "name": "stdout",
     "output_type": "stream",
     "text": [
      "['D5', 'CL', 'CA', 'ME', 'CD', 'CM', 'DU', 'DT', 'C4', 'DR', 'DZ', 'SU', 'ST', 'DE', 'XF', 'FP', 'IU', 'IL', 'IR', 'IJ', 'PC', 'IA', 'IQ', 'IG', 'PG', 'LA', 'C2', 'AC', 'PB', 'PY', 'PP', 'AM', 'ES', 'PM', 'IT', 'OF', 'SH', 'SE', 'PT', 'RC', 'PI', 'PK', 'PJ', 'DG', 'PZ', 'XY', 'AB', 'MC', 'PE', 'SC', 'PL', 'SB', 'XN', 'AA', 'PD', 'B5', 'BB', 'DD', 'AX', 'CQ', 'LT', 'PA', 'VS', 'PO', 'IO', 'XE', 'SI']\n"
     ]
    }
   ],
   "source": [
    "research_ids = df_agregated['id']\r\n",
    "print(list(research_ids))"
   ]
  },
  {
   "cell_type": "code",
   "execution_count": 44,
   "metadata": {},
   "outputs": [
    {
     "name": "stdout",
     "output_type": "stream",
     "text": [
      "CPU times: total: 219 ms\n",
      "Wall time: 218 ms\n"
     ]
    }
   ],
   "source": [
    "%%time\r\n",
    "df_aux = pd.DataFrame()\r\n",
    "\r\n",
    "for research_id in research_ids:\r\n",
    "    # get just the row for the given research id\r\n",
    "    df_research = df_agregated[df_agregated['id'] == research_id]\r\n",
    "    # explode the row to get all the agregados \r\n",
    "    df_research = df_research.explode('agregados')\r\n",
    "    # reset index\r\n",
    "    df_research = df_research.reset_index()\r\n",
    "    # normalize the agregados column and rename the columns\r\n",
    "    df_normalize = pd.json_normalize(df_research['agregados'])\r\n",
    "    df_normalize = df_normalize.rename({'id': 'id-agregado', 'nome': 'nome-agregado'})\r\n",
    "    # concat the agregado data to df_research\r\n",
    "    df_research = pd.concat([df_research, df_normalize], axis = 1)\r\n",
    "    # delete the dict column\r\n",
    "    df_research = df_research.drop('agregados', axis = 1)\r\n"
   ]
  },
  {
   "cell_type": "code",
   "execution_count": 45,
   "metadata": {},
   "outputs": [
    {
     "data": {
      "text/html": "<div>\n<style scoped>\n    .dataframe tbody tr th:only-of-type {\n        vertical-align: middle;\n    }\n\n    .dataframe tbody tr th {\n        vertical-align: top;\n    }\n\n    .dataframe thead th {\n        text-align: right;\n    }\n</style>\n<table border=\"1\" class=\"dataframe\">\n  <thead>\n    <tr style=\"text-align: right;\">\n      <th></th>\n      <th>index</th>\n      <th>id</th>\n      <th>nome</th>\n      <th>id</th>\n      <th>nome</th>\n    </tr>\n  </thead>\n  <tbody>\n    <tr>\n      <th>0</th>\n      <td>66</td>\n      <td>SI</td>\n      <td>Sistema Nacional de Pesquisa de Custos e Índic...</td>\n      <td>33</td>\n      <td>Custo de projeto m², por padrão de acabamento ...</td>\n    </tr>\n    <tr>\n      <th>1</th>\n      <td>66</td>\n      <td>SI</td>\n      <td>Sistema Nacional de Pesquisa de Custos e Índic...</td>\n      <td>647</td>\n      <td>Custo de projeto m², por tipo de projeto e pad...</td>\n    </tr>\n    <tr>\n      <th>2</th>\n      <td>66</td>\n      <td>SI</td>\n      <td>Sistema Nacional de Pesquisa de Custos e Índic...</td>\n      <td>30</td>\n      <td>Custo médio m² em moeda corrente (série encerr...</td>\n    </tr>\n    <tr>\n      <th>3</th>\n      <td>66</td>\n      <td>SI</td>\n      <td>Sistema Nacional de Pesquisa de Custos e Índic...</td>\n      <td>2296</td>\n      <td>Custo médio m² em moeda corrente e variações p...</td>\n    </tr>\n    <tr>\n      <th>4</th>\n      <td>66</td>\n      <td>SI</td>\n      <td>Sistema Nacional de Pesquisa de Custos e Índic...</td>\n      <td>6586</td>\n      <td>Custo médio m² em moeda corrente e variações p...</td>\n    </tr>\n    <tr>\n      <th>5</th>\n      <td>66</td>\n      <td>SI</td>\n      <td>Sistema Nacional de Pesquisa de Custos e Índic...</td>\n      <td>32</td>\n      <td>Custo médio m² em variação percentual, por tip...</td>\n    </tr>\n    <tr>\n      <th>6</th>\n      <td>66</td>\n      <td>SI</td>\n      <td>Sistema Nacional de Pesquisa de Custos e Índic...</td>\n      <td>34</td>\n      <td>Preços medianos, por materiais e serviços (sér...</td>\n    </tr>\n    <tr>\n      <th>7</th>\n      <td>66</td>\n      <td>SI</td>\n      <td>Sistema Nacional de Pesquisa de Custos e Índic...</td>\n      <td>2062</td>\n      <td>Preços medianos, por materiais e serviços (sér...</td>\n    </tr>\n    <tr>\n      <th>8</th>\n      <td>66</td>\n      <td>SI</td>\n      <td>Sistema Nacional de Pesquisa de Custos e Índic...</td>\n      <td>35</td>\n      <td>Salários medianos, por categorias profissionai...</td>\n    </tr>\n  </tbody>\n</table>\n</div>",
      "text/plain": "   index  id                                               nome    id   \n0     66  SI  Sistema Nacional de Pesquisa de Custos e Índic...    33  \\\n1     66  SI  Sistema Nacional de Pesquisa de Custos e Índic...   647   \n2     66  SI  Sistema Nacional de Pesquisa de Custos e Índic...    30   \n3     66  SI  Sistema Nacional de Pesquisa de Custos e Índic...  2296   \n4     66  SI  Sistema Nacional de Pesquisa de Custos e Índic...  6586   \n5     66  SI  Sistema Nacional de Pesquisa de Custos e Índic...    32   \n6     66  SI  Sistema Nacional de Pesquisa de Custos e Índic...    34   \n7     66  SI  Sistema Nacional de Pesquisa de Custos e Índic...  2062   \n8     66  SI  Sistema Nacional de Pesquisa de Custos e Índic...    35   \n\n                                                nome  \n0  Custo de projeto m², por padrão de acabamento ...  \n1  Custo de projeto m², por tipo de projeto e pad...  \n2  Custo médio m² em moeda corrente (série encerr...  \n3  Custo médio m² em moeda corrente e variações p...  \n4  Custo médio m² em moeda corrente e variações p...  \n5  Custo médio m² em variação percentual, por tip...  \n6  Preços medianos, por materiais e serviços (sér...  \n7  Preços medianos, por materiais e serviços (sér...  \n8  Salários medianos, por categorias profissionai...  "
     },
     "execution_count": 45,
     "metadata": {},
     "output_type": "execute_result"
    }
   ],
   "source": [
    "df_research"
   ]
  },
  {
   "cell_type": "code",
   "execution_count": null,
   "metadata": {},
   "outputs": [],
   "source": []
  }
 ],
 "metadata": {
  "kernelspec": {
   "display_name": "Python 3.11.3 64-bit",
   "metadata": {
    "interpreter": {
     "hash": "1f9cc8cd99bde4ad34d9e4c5506bdcfbd0680e8eab8faedc4eaff1ddda369bb1"
    }
   },
   "name": "python3"
  },
  "language_info": {
   "codemirror_mode": {
    "name": "ipython",
    "version": 3
   },
   "file_extension": ".py",
   "mimetype": "text/x-python",
   "name": "python",
   "nbconvert_exporter": "python",
   "pygments_lexer": "ipython3",
   "version": "3.11.3"
  },
  "orig_nbformat": 2
 },
 "nbformat": 4,
 "nbformat_minor": 2
}