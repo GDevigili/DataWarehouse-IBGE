{
 "cells": [
  {
   "cell_type": "code",
   "execution_count": 1,
   "metadata": {},
   "outputs": [],
   "source": [
    "import requests\n",
    "import json\n",
    "import sys\n",
    "\n",
    "sys.path.append('..')\n",
    "\n",
    "# Data Manipulation\n",
    "import pandas as pd\n",
    "\n",
    "from utils import *"
   ]
  },
  {
   "attachments": {},
   "cell_type": "markdown",
   "metadata": {},
   "source": [
    "# Países"
   ]
  },
  {
   "cell_type": "code",
   "execution_count": 2,
   "metadata": {},
   "outputs": [],
   "source": [
    "url_paises = \"https://servicodados.ibge.gov.br/api/v1/paises/\"\r\n",
    "df_paises = make_df(get_request_json(url_paises))"
   ]
  },
  {
   "cell_type": "code",
   "execution_count": 3,
   "metadata": {},
   "outputs": [
    {
     "name": "stdout",
     "output_type": "stream",
     "text": [
      "<class 'pandas.core.frame.DataFrame'>\n",
      "RangeIndex: 273 entries, 0 to 272\n",
      "Data columns (total 18 columns):\n",
      " #   Column                            Non-Null Count  Dtype  \n",
      "---  ------                            --------------  -----  \n",
      " 0   id_M49                            273 non-null    int64  \n",
      " 1   id_ISO-3166-1-ALPHA-2             273 non-null    object \n",
      " 2   id_ISO-3166-1-ALPHA-3             273 non-null    object \n",
      " 3   nome_abreviado                    273 non-null    object \n",
      " 4   nome_abreviado-EN                 273 non-null    object \n",
      " 5   nome_abreviado-ES                 273 non-null    object \n",
      " 6   area_total                        273 non-null    object \n",
      " 7   unidade_nome                      273 non-null    object \n",
      " 8   unidade_símbolo                   273 non-null    object \n",
      " 9   unidade_multiplicador             273 non-null    int64  \n",
      " 10  regiao_nome                       273 non-null    object \n",
      " 11  sub-regiao_nome                   273 non-null    object \n",
      " 12  localizacao_regiao-intermediaria  0 non-null      float64\n",
      " 13  linguas                           273 non-null    object \n",
      " 14  capital_nome                      273 non-null    object \n",
      " 15  unidades-monetarias               273 non-null    object \n",
      " 16  historico                         273 non-null    object \n",
      " 17  regiao-intermediaria_nome         116 non-null    object \n",
      "dtypes: float64(1), int64(2), object(15)\n",
      "memory usage: 38.5+ KB\n"
     ]
    }
   ],
   "source": [
    "df_paises.info()"
   ]
  },
  {
   "cell_type": "code",
   "execution_count": 4,
   "metadata": {},
   "outputs": [
    {
     "data": {
      "text/html": "<div>\n<style scoped>\n    .dataframe tbody tr th:only-of-type {\n        vertical-align: middle;\n    }\n\n    .dataframe tbody tr th {\n        vertical-align: top;\n    }\n\n    .dataframe thead th {\n        text-align: right;\n    }\n</style>\n<table border=\"1\" class=\"dataframe\">\n  <thead>\n    <tr style=\"text-align: right;\">\n      <th></th>\n      <th>id-pais</th>\n      <th>sigla-2</th>\n      <th>sigla-3</th>\n      <th>nome_abreviado</th>\n      <th>nome_abreviado-EN</th>\n      <th>nome_abreviado-ES</th>\n      <th>area_total</th>\n      <th>unidade_nome</th>\n      <th>unidade_símbolo</th>\n      <th>unidade_multiplicador</th>\n      <th>regiao_nome</th>\n      <th>sub-regiao_nome</th>\n      <th>localizacao_regiao-intermediaria</th>\n      <th>linguas</th>\n      <th>capital_nome</th>\n      <th>unidades-monetarias</th>\n      <th>historico</th>\n      <th>regiao-intermediaria_nome</th>\n    </tr>\n  </thead>\n  <tbody>\n    <tr>\n      <th>0</th>\n      <td>39</td>\n      <td>AD</td>\n      <td>AND</td>\n      <td>Andorra</td>\n      <td>Andorra</td>\n      <td>Andorra</td>\n      <td>468</td>\n      <td>quilômetros quadrados</td>\n      <td>km2</td>\n      <td>1</td>\n      <td>Europa</td>\n      <td>Europa meridional  (Sul da Europa)</td>\n      <td>NaN</td>\n      <td>[{'id': {'ISO-639-1': 'ca', 'ISO-639-2': 'cat'...</td>\n      <td>Andorra-a-Velha</td>\n      <td>[{'id': {'ISO-4217-ALPHA': 'EUR', 'ISO-4217-NU...</td>\n      <td>O Principado de Andorra é um dos menores Estad...</td>\n      <td>NaN</td>\n    </tr>\n  </tbody>\n</table>\n</div>",
      "text/plain": "   id-pais sigla-2 sigla-3 nome_abreviado nome_abreviado-EN nome_abreviado-ES   \n0       39      AD     AND        Andorra           Andorra           Andorra  \\\n\n  area_total           unidade_nome unidade_símbolo  unidade_multiplicador   \n0        468  quilômetros quadrados             km2                      1  \\\n\n  regiao_nome                     sub-regiao_nome   \n0      Europa  Europa meridional  (Sul da Europa)  \\\n\n   localizacao_regiao-intermediaria   \n0                               NaN  \\\n\n                                             linguas     capital_nome   \n0  [{'id': {'ISO-639-1': 'ca', 'ISO-639-2': 'cat'...  Andorra-a-Velha  \\\n\n                                 unidades-monetarias   \n0  [{'id': {'ISO-4217-ALPHA': 'EUR', 'ISO-4217-NU...  \\\n\n                                           historico regiao-intermediaria_nome  \n0  O Principado de Andorra é um dos menores Estad...                       NaN  "
     },
     "execution_count": 4,
     "metadata": {},
     "output_type": "execute_result"
    }
   ],
   "source": [
    "df_paises = df_paises.rename(columns={\r\n",
    "    'id_M49': 'id-pais'\r\n",
    "    ,'id_ISO-3166-1-ALPHA-2': 'sigla-2'\r\n",
    "    ,'id_ISO-3166-1-ALPHA-3': 'sigla-3'\r\n",
    "})\r\n",
    "df_paises.head(1)"
   ]
  },
  {
   "attachments": {},
   "cell_type": "markdown",
   "metadata": {},
   "source": [
    "# Indicadores"
   ]
  },
  {
   "cell_type": "code",
   "execution_count": 5,
   "metadata": {},
   "outputs": [],
   "source": [
    "url_indicadores = \"https://servicodados.ibge.gov.br/api/v1/paises/indicadores/\""
   ]
  },
  {
   "cell_type": "code",
   "execution_count": 6,
   "metadata": {},
   "outputs": [
    {
     "data": {
      "text/html": "<div>\n<style scoped>\n    .dataframe tbody tr th:only-of-type {\n        vertical-align: middle;\n    }\n\n    .dataframe tbody tr th {\n        vertical-align: top;\n    }\n\n    .dataframe thead th {\n        text-align: right;\n    }\n</style>\n<table border=\"1\" class=\"dataframe\">\n  <thead>\n    <tr style=\"text-align: right;\">\n      <th></th>\n      <th>id</th>\n      <th>indicador</th>\n      <th>unidade_id</th>\n      <th>unidade_classe</th>\n      <th>unidade_multiplicador</th>\n    </tr>\n  </thead>\n  <tbody>\n    <tr>\n      <th>0</th>\n      <td>77818</td>\n      <td>Economia - Chegada de turistas</td>\n      <td>turistas</td>\n      <td>N</td>\n      <td>1.000000e+00</td>\n    </tr>\n    <tr>\n      <th>1</th>\n      <td>77819</td>\n      <td>Economia - Gastos públicos com educação</td>\n      <td>% do PIB</td>\n      <td>N</td>\n      <td>1.000000e+00</td>\n    </tr>\n    <tr>\n      <th>2</th>\n      <td>77820</td>\n      <td>Economia - Gastos públicos com saúde</td>\n      <td>% do PIB</td>\n      <td>N</td>\n      <td>1.000000e+00</td>\n    </tr>\n    <tr>\n      <th>3</th>\n      <td>77821</td>\n      <td>Economia - Investimentos em pesquisa e desenvo...</td>\n      <td>% do PIB</td>\n      <td>N</td>\n      <td>1.000000e+00</td>\n    </tr>\n    <tr>\n      <th>4</th>\n      <td>77822</td>\n      <td>Economia - Mulheres de 15 anos ou mais de idad...</td>\n      <td>%</td>\n      <td>N</td>\n      <td>1.000000e+00</td>\n    </tr>\n    <tr>\n      <th>5</th>\n      <td>77823</td>\n      <td>Economia - PIB per capita</td>\n      <td>US$</td>\n      <td>N</td>\n      <td>1.000000e+00</td>\n    </tr>\n    <tr>\n      <th>6</th>\n      <td>77824</td>\n      <td>Economia - População de 15 anos ou mais de ida...</td>\n      <td>%</td>\n      <td>N</td>\n      <td>1.000000e+00</td>\n    </tr>\n    <tr>\n      <th>7</th>\n      <td>77825</td>\n      <td>Economia - Total de exportações</td>\n      <td>US$</td>\n      <td>N</td>\n      <td>1.000000e+00</td>\n    </tr>\n    <tr>\n      <th>8</th>\n      <td>77826</td>\n      <td>Economia - Total de importações</td>\n      <td>US$</td>\n      <td>N</td>\n      <td>1.000000e+00</td>\n    </tr>\n    <tr>\n      <th>9</th>\n      <td>77827</td>\n      <td>Economia - Total do PIB</td>\n      <td>US$</td>\n      <td>N</td>\n      <td>1.000000e+06</td>\n    </tr>\n    <tr>\n      <th>10</th>\n      <td>77830</td>\n      <td>Indicadores sociais - Esperança de vida ao nascer</td>\n      <td>anos</td>\n      <td>N</td>\n      <td>1.000000e+00</td>\n    </tr>\n    <tr>\n      <th>11</th>\n      <td>77831</td>\n      <td>Indicadores sociais - Índice de desenvolviment...</td>\n      <td>NaN</td>\n      <td>NaN</td>\n      <td>NaN</td>\n    </tr>\n    <tr>\n      <th>12</th>\n      <td>77832</td>\n      <td>Indicadores sociais - População com acesso à á...</td>\n      <td>%</td>\n      <td>N</td>\n      <td>1.000000e+00</td>\n    </tr>\n    <tr>\n      <th>13</th>\n      <td>77833</td>\n      <td>Indicadores sociais - População com acesso à r...</td>\n      <td>%</td>\n      <td>N</td>\n      <td>1.000000e+00</td>\n    </tr>\n    <tr>\n      <th>14</th>\n      <td>77835</td>\n      <td>Indicadores sociais - Taxa bruta de matrículas...</td>\n      <td>%</td>\n      <td>N</td>\n      <td>1.000000e+00</td>\n    </tr>\n    <tr>\n      <th>15</th>\n      <td>77836</td>\n      <td>Indicadores sociais - Taxa de alfabetização da...</td>\n      <td>%</td>\n      <td>N</td>\n      <td>1.000000e+00</td>\n    </tr>\n    <tr>\n      <th>16</th>\n      <td>77838</td>\n      <td>Meio Ambiente - Áreas cultivadas</td>\n      <td>% da área total</td>\n      <td>N</td>\n      <td>1.000000e+00</td>\n    </tr>\n    <tr>\n      <th>17</th>\n      <td>77839</td>\n      <td>Meio Ambiente - Áreas de pastagens permanentes</td>\n      <td>% da área total</td>\n      <td>N</td>\n      <td>1.000000e+00</td>\n    </tr>\n    <tr>\n      <th>18</th>\n      <td>77840</td>\n      <td>Meio Ambiente - Áreas protegidas no total do t...</td>\n      <td>%</td>\n      <td>N</td>\n      <td>1.000000e+00</td>\n    </tr>\n    <tr>\n      <th>19</th>\n      <td>77841</td>\n      <td>Meio Ambiente - Produção de gás natural</td>\n      <td>m³</td>\n      <td>N</td>\n      <td>1.000000e+09</td>\n    </tr>\n    <tr>\n      <th>20</th>\n      <td>77842</td>\n      <td>Meio Ambiente - Produção de petróleo</td>\n      <td>barris/dia</td>\n      <td>N</td>\n      <td>1.000000e+03</td>\n    </tr>\n    <tr>\n      <th>21</th>\n      <td>77844</td>\n      <td>População - Densidade demográfica</td>\n      <td>hab/km²</td>\n      <td>N</td>\n      <td>1.000000e+00</td>\n    </tr>\n    <tr>\n      <th>22</th>\n      <td>77845</td>\n      <td>População - Homens</td>\n      <td>habitantes</td>\n      <td>N</td>\n      <td>1.000000e+00</td>\n    </tr>\n    <tr>\n      <th>23</th>\n      <td>77846</td>\n      <td>População - Mulheres</td>\n      <td>habitantes</td>\n      <td>N</td>\n      <td>1.000000e+00</td>\n    </tr>\n    <tr>\n      <th>24</th>\n      <td>77847</td>\n      <td>População - População residente em área rural</td>\n      <td>%</td>\n      <td>N</td>\n      <td>1.000000e+00</td>\n    </tr>\n    <tr>\n      <th>25</th>\n      <td>77848</td>\n      <td>População - População residente em área urbana</td>\n      <td>%</td>\n      <td>N</td>\n      <td>1.000000e+00</td>\n    </tr>\n    <tr>\n      <th>26</th>\n      <td>77849</td>\n      <td>População - População total</td>\n      <td>habitantes</td>\n      <td>N</td>\n      <td>1.000000e+00</td>\n    </tr>\n    <tr>\n      <th>27</th>\n      <td>77850</td>\n      <td>População - Taxa bruta de mortalidade</td>\n      <td>por mil</td>\n      <td>N</td>\n      <td>1.000000e+00</td>\n    </tr>\n    <tr>\n      <th>28</th>\n      <td>77851</td>\n      <td>População - Taxa bruta de natalidade</td>\n      <td>por mil</td>\n      <td>N</td>\n      <td>1.000000e+00</td>\n    </tr>\n    <tr>\n      <th>29</th>\n      <td>77852</td>\n      <td>População - Taxa média anual do crescimento da...</td>\n      <td>%</td>\n      <td>N</td>\n      <td>1.000000e+00</td>\n    </tr>\n    <tr>\n      <th>30</th>\n      <td>77854</td>\n      <td>Redes - Assinaturas de telefonia celular</td>\n      <td>a cada 100 habitantes</td>\n      <td>N</td>\n      <td>1.000000e+00</td>\n    </tr>\n    <tr>\n      <th>31</th>\n      <td>77855</td>\n      <td>Redes - Assinaturas de telefonia fixa</td>\n      <td>a cada 100 habitantes</td>\n      <td>N</td>\n      <td>1.000000e+00</td>\n    </tr>\n    <tr>\n      <th>32</th>\n      <td>77857</td>\n      <td>Redes - Percentual de usuários de Internet</td>\n      <td>%</td>\n      <td>N</td>\n      <td>1.000000e+00</td>\n    </tr>\n    <tr>\n      <th>33</th>\n      <td>77829</td>\n      <td>Saúde - Consumo calórico</td>\n      <td>kcal/dia</td>\n      <td>N</td>\n      <td>1.000000e+00</td>\n    </tr>\n    <tr>\n      <th>34</th>\n      <td>77834</td>\n      <td>Saúde - Incidência de subnutrição</td>\n      <td>%</td>\n      <td>N</td>\n      <td>1.000000e+00</td>\n    </tr>\n  </tbody>\n</table>\n</div>",
      "text/plain": "       id                                          indicador   \n0   77818                     Economia - Chegada de turistas  \\\n1   77819            Economia - Gastos públicos com educação   \n2   77820               Economia - Gastos públicos com saúde   \n3   77821  Economia - Investimentos em pesquisa e desenvo...   \n4   77822  Economia - Mulheres de 15 anos ou mais de idad...   \n5   77823                          Economia - PIB per capita   \n6   77824  Economia - População de 15 anos ou mais de ida...   \n7   77825                    Economia - Total de exportações   \n8   77826                    Economia - Total de importações   \n9   77827                            Economia - Total do PIB   \n10  77830  Indicadores sociais - Esperança de vida ao nascer   \n11  77831  Indicadores sociais - Índice de desenvolviment...   \n12  77832  Indicadores sociais - População com acesso à á...   \n13  77833  Indicadores sociais - População com acesso à r...   \n14  77835  Indicadores sociais - Taxa bruta de matrículas...   \n15  77836  Indicadores sociais - Taxa de alfabetização da...   \n16  77838                   Meio Ambiente - Áreas cultivadas   \n17  77839     Meio Ambiente - Áreas de pastagens permanentes   \n18  77840  Meio Ambiente - Áreas protegidas no total do t...   \n19  77841            Meio Ambiente - Produção de gás natural   \n20  77842               Meio Ambiente - Produção de petróleo   \n21  77844                  População - Densidade demográfica   \n22  77845                                 População - Homens   \n23  77846                               População - Mulheres   \n24  77847      População - População residente em área rural   \n25  77848     População - População residente em área urbana   \n26  77849                        População - População total   \n27  77850              População - Taxa bruta de mortalidade   \n28  77851               População - Taxa bruta de natalidade   \n29  77852  População - Taxa média anual do crescimento da...   \n30  77854           Redes - Assinaturas de telefonia celular   \n31  77855              Redes - Assinaturas de telefonia fixa   \n32  77857         Redes - Percentual de usuários de Internet   \n33  77829                           Saúde - Consumo calórico   \n34  77834                  Saúde - Incidência de subnutrição   \n\n               unidade_id unidade_classe  unidade_multiplicador  \n0                turistas              N           1.000000e+00  \n1                % do PIB              N           1.000000e+00  \n2                % do PIB              N           1.000000e+00  \n3                % do PIB              N           1.000000e+00  \n4                       %              N           1.000000e+00  \n5                     US$              N           1.000000e+00  \n6                       %              N           1.000000e+00  \n7                     US$              N           1.000000e+00  \n8                     US$              N           1.000000e+00  \n9                     US$              N           1.000000e+06  \n10                   anos              N           1.000000e+00  \n11                    NaN            NaN                    NaN  \n12                      %              N           1.000000e+00  \n13                      %              N           1.000000e+00  \n14                      %              N           1.000000e+00  \n15                      %              N           1.000000e+00  \n16        % da área total              N           1.000000e+00  \n17        % da área total              N           1.000000e+00  \n18                      %              N           1.000000e+00  \n19                     m³              N           1.000000e+09  \n20             barris/dia              N           1.000000e+03  \n21                hab/km²              N           1.000000e+00  \n22             habitantes              N           1.000000e+00  \n23             habitantes              N           1.000000e+00  \n24                      %              N           1.000000e+00  \n25                      %              N           1.000000e+00  \n26             habitantes              N           1.000000e+00  \n27                por mil              N           1.000000e+00  \n28                por mil              N           1.000000e+00  \n29                      %              N           1.000000e+00  \n30  a cada 100 habitantes              N           1.000000e+00  \n31  a cada 100 habitantes              N           1.000000e+00  \n32                      %              N           1.000000e+00  \n33               kcal/dia              N           1.000000e+00  \n34                      %              N           1.000000e+00  "
     },
     "execution_count": 6,
     "metadata": {},
     "output_type": "execute_result"
    }
   ],
   "source": [
    "df_indicadores = make_df(get_request_json(url_indicadores))\r\n",
    "df_indicadores"
   ]
  },
  {
   "cell_type": "code",
   "execution_count": 7,
   "metadata": {},
   "outputs": [
    {
     "data": {
      "text/plain": "array(['AD', 'AE', 'AF', 'AG', 'AL', 'AM', 'AO', 'AR', 'AT', 'AU', 'AZ',\n       'BA', 'BB', 'BD', 'BE', 'BF', 'BG', 'BH', 'BI', 'BJ', 'BN', 'BO',\n       'BR', 'BS', 'BT', 'BW', 'BY', 'BZ', 'CA', 'CD', 'CF', 'CG', 'CH',\n       'CI', 'CL', 'CM', 'CN', 'CO', 'CR', 'CU', 'CV', 'CY', 'CZ', 'DE',\n       'DJ', 'DK', 'DM', 'DO', 'DZ', 'EC', 'EE', 'EG', 'ER', 'ES', 'ET',\n       'FI', 'FJ', 'FM', 'FR', 'GA', 'GB', 'GD', 'GE', 'GH', 'GM', 'GN',\n       'GQ', 'GR', 'GT', 'GW', 'GY', 'HN', 'HR', 'HT', 'HU', 'ID', 'IE',\n       'IL', 'IN', 'IQ', 'IR', 'IS', 'IT', 'JM', 'JO', 'JP', 'KE', 'KG',\n       'KH', 'KI', 'KM', 'KN', 'KP', 'KR', 'KW', 'KZ', 'LA', 'LB', 'LC',\n       'LI', 'LK', 'LR', 'LS', 'LT', 'LU', 'LV', 'LY', 'MA', 'MC', 'MD',\n       'ME', 'MG', 'MH', 'MK', 'ML', 'MM', 'MN', 'MR', 'MT', 'MU', 'MV',\n       'MW', 'MX', 'MY', 'MZ', 'NA', 'NE', 'NG', 'NI', 'NL', 'NO', 'NP',\n       'NR', 'NZ', 'OM', 'PA', 'PE', 'PG', 'PH', 'PK', 'PL', 'PT', 'PW',\n       'PY', 'QA', 'RO', 'RS', 'RU', 'RW', 'SA', 'SB', 'SC', 'SD', 'SE',\n       'SG', 'SI', 'SK', 'SL', 'SM', 'SN', 'SO', 'SR', 'SS', 'ST', 'SV',\n       'SY', 'SZ', 'TD', 'TG', 'TH', 'TJ', 'TL', 'TM', 'TN', 'TO', 'TR',\n       'TT', 'TV', 'TZ', 'UA', 'UG', 'US', 'UY', 'UZ', 'VC', 'VE', 'VN',\n       'VU', 'WS', 'YE', 'ZA', 'ZM', 'ZW'], dtype=object)"
     },
     "execution_count": 7,
     "metadata": {},
     "output_type": "execute_result"
    }
   ],
   "source": [
    "country_list = df_paises['sigla-2'].unique()\r\n",
    "country_list"
   ]
  },
  {
   "cell_type": "code",
   "execution_count": 8,
   "metadata": {},
   "outputs": [
    {
     "data": {
      "text/plain": "array([77818, 77819, 77820, 77821, 77822, 77823, 77824, 77825, 77826,\n       77827, 77830, 77831, 77832, 77833, 77835, 77836, 77838, 77839,\n       77840, 77841, 77842, 77844, 77845, 77846, 77847, 77848, 77849,\n       77850, 77851, 77852, 77854, 77855, 77857, 77829, 77834],\n      dtype=int64)"
     },
     "execution_count": 8,
     "metadata": {},
     "output_type": "execute_result"
    }
   ],
   "source": [
    "indicator_list = df_indicadores['id'].unique()\r\n",
    "indicator_list"
   ]
  },
  {
   "cell_type": "markdown",
   "metadata": {},
   "source": [
    "## Carga de Indicadores\r\n",
    "\r\n",
    "+ Será necessário um `for` loop iterando e substituindo a `sigla-2` do país na URL: `\"https://servicodados.ibge.gov.br/api/v1/paises/{country}/indicadores\"`\r\n",
    "+ O retorno de `get_request().get(url_country_indicators).json()` é uma lista com os 35 indicadores de cada país\r\n",
    "+ A coluna `series` dos indicadores contém uma lista dos valores do respectivo indicador no grão país, onde cada entrada da lista se refere à um país\r\n",
    "    + A ideia é utilizar apenas um país por requisição e utilizar multithreading para melhoras de performance\r\n",
    "+ A coluna `series.serie` contém uma lista dos valores do respectivo indicador no grão ano/data para o respectivo país\r\n"
   ]
  },
  {
   "cell_type": "code",
   "execution_count": 12,
   "metadata": {},
   "outputs": [
    {
     "name": "stdout",
     "output_type": "stream",
     "text": [
      "CPU times: total: 7.03 s\n",
      "Wall time: 19.3 s\n"
     ]
    }
   ],
   "source": [
    "%%time\r\n",
    "df_country_indicators = pd.DataFrame()\r\n",
    "for country in country_list:\r\n",
    "    url_country = f\"https://servicodados.ibge.gov.br/api/v1/paises/{country}/indicadores\"\r\n",
    "    df_country = make_df(get_request_json(url_country))\r\n",
    "    df_country_indicators = pd.concat([df_country_indicators, df_country], ignore_index=True)\r\n"
   ]
  },
  {
   "cell_type": "code",
   "execution_count": 13,
   "metadata": {},
   "outputs": [
    {
     "data": {
      "text/html": "<div>\n<style scoped>\n    .dataframe tbody tr th:only-of-type {\n        vertical-align: middle;\n    }\n\n    .dataframe tbody tr th {\n        vertical-align: top;\n    }\n\n    .dataframe thead th {\n        text-align: right;\n    }\n</style>\n<table border=\"1\" class=\"dataframe\">\n  <thead>\n    <tr style=\"text-align: right;\">\n      <th></th>\n      <th>id</th>\n      <th>indicador</th>\n      <th>unidade_id</th>\n      <th>unidade_classe</th>\n      <th>unidade_multiplicador</th>\n      <th>series</th>\n    </tr>\n  </thead>\n  <tbody>\n    <tr>\n      <th>0</th>\n      <td>77818</td>\n      <td>Economia - Chegada de turistas</td>\n      <td>turistas</td>\n      <td>N</td>\n      <td>1.0</td>\n      <td>[{'pais': {'id': 'AD', 'nome': 'Andorra'}, 'se...</td>\n    </tr>\n    <tr>\n      <th>1</th>\n      <td>77819</td>\n      <td>Economia - Gastos públicos com educação</td>\n      <td>% do PIB</td>\n      <td>N</td>\n      <td>1.0</td>\n      <td>[{'pais': {'id': 'AD', 'nome': 'Andorra'}, 'se...</td>\n    </tr>\n    <tr>\n      <th>2</th>\n      <td>77820</td>\n      <td>Economia - Gastos públicos com saúde</td>\n      <td>% do PIB</td>\n      <td>N</td>\n      <td>1.0</td>\n      <td>[{'pais': {'id': 'AD', 'nome': 'Andorra'}, 'se...</td>\n    </tr>\n    <tr>\n      <th>3</th>\n      <td>77821</td>\n      <td>Economia - Investimentos em pesquisa e desenvo...</td>\n      <td>% do PIB</td>\n      <td>N</td>\n      <td>1.0</td>\n      <td>[{'pais': {'id': 'AD', 'nome': 'Andorra'}, 'se...</td>\n    </tr>\n    <tr>\n      <th>4</th>\n      <td>77822</td>\n      <td>Economia - Mulheres de 15 anos ou mais de idad...</td>\n      <td>%</td>\n      <td>N</td>\n      <td>1.0</td>\n      <td>[]</td>\n    </tr>\n    <tr>\n      <th>...</th>\n      <td>...</td>\n      <td>...</td>\n      <td>...</td>\n      <td>...</td>\n      <td>...</td>\n      <td>...</td>\n    </tr>\n    <tr>\n      <th>6750</th>\n      <td>77854</td>\n      <td>Redes - Assinaturas de telefonia celular</td>\n      <td>a cada 100 habitantes</td>\n      <td>N</td>\n      <td>1.0</td>\n      <td>[{'pais': {'id': 'ZW', 'nome': 'Zimbábue'}, 's...</td>\n    </tr>\n    <tr>\n      <th>6751</th>\n      <td>77855</td>\n      <td>Redes - Assinaturas de telefonia fixa</td>\n      <td>a cada 100 habitantes</td>\n      <td>N</td>\n      <td>1.0</td>\n      <td>[{'pais': {'id': 'ZW', 'nome': 'Zimbábue'}, 's...</td>\n    </tr>\n    <tr>\n      <th>6752</th>\n      <td>77857</td>\n      <td>Redes - Percentual de usuários de Internet</td>\n      <td>%</td>\n      <td>N</td>\n      <td>1.0</td>\n      <td>[{'pais': {'id': 'ZW', 'nome': 'Zimbábue'}, 's...</td>\n    </tr>\n    <tr>\n      <th>6753</th>\n      <td>77829</td>\n      <td>Saúde - Consumo calórico</td>\n      <td>kcal/dia</td>\n      <td>N</td>\n      <td>1.0</td>\n      <td>[{'pais': {'id': 'ZW', 'nome': 'Zimbábue'}, 's...</td>\n    </tr>\n    <tr>\n      <th>6754</th>\n      <td>77834</td>\n      <td>Saúde - Incidência de subnutrição</td>\n      <td>%</td>\n      <td>N</td>\n      <td>1.0</td>\n      <td>[{'pais': {'id': 'ZW', 'nome': 'Zimbábue'}, 's...</td>\n    </tr>\n  </tbody>\n</table>\n<p>6755 rows × 6 columns</p>\n</div>",
      "text/plain": "         id                                          indicador   \n0     77818                     Economia - Chegada de turistas  \\\n1     77819            Economia - Gastos públicos com educação   \n2     77820               Economia - Gastos públicos com saúde   \n3     77821  Economia - Investimentos em pesquisa e desenvo...   \n4     77822  Economia - Mulheres de 15 anos ou mais de idad...   \n...     ...                                                ...   \n6750  77854           Redes - Assinaturas de telefonia celular   \n6751  77855              Redes - Assinaturas de telefonia fixa   \n6752  77857         Redes - Percentual de usuários de Internet   \n6753  77829                           Saúde - Consumo calórico   \n6754  77834                  Saúde - Incidência de subnutrição   \n\n                 unidade_id unidade_classe  unidade_multiplicador   \n0                  turistas              N                    1.0  \\\n1                  % do PIB              N                    1.0   \n2                  % do PIB              N                    1.0   \n3                  % do PIB              N                    1.0   \n4                         %              N                    1.0   \n...                     ...            ...                    ...   \n6750  a cada 100 habitantes              N                    1.0   \n6751  a cada 100 habitantes              N                    1.0   \n6752                      %              N                    1.0   \n6753               kcal/dia              N                    1.0   \n6754                      %              N                    1.0   \n\n                                                 series  \n0     [{'pais': {'id': 'AD', 'nome': 'Andorra'}, 'se...  \n1     [{'pais': {'id': 'AD', 'nome': 'Andorra'}, 'se...  \n2     [{'pais': {'id': 'AD', 'nome': 'Andorra'}, 'se...  \n3     [{'pais': {'id': 'AD', 'nome': 'Andorra'}, 'se...  \n4                                                    []  \n...                                                 ...  \n6750  [{'pais': {'id': 'ZW', 'nome': 'Zimbábue'}, 's...  \n6751  [{'pais': {'id': 'ZW', 'nome': 'Zimbábue'}, 's...  \n6752  [{'pais': {'id': 'ZW', 'nome': 'Zimbábue'}, 's...  \n6753  [{'pais': {'id': 'ZW', 'nome': 'Zimbábue'}, 's...  \n6754  [{'pais': {'id': 'ZW', 'nome': 'Zimbábue'}, 's...  \n\n[6755 rows x 6 columns]"
     },
     "execution_count": 13,
     "metadata": {},
     "output_type": "execute_result"
    }
   ],
   "source": [
    "df_country_indicators"
   ]
  }
 ],
 "metadata": {
  "kernelspec": {
   "display_name": "Python 3.11.3 64-bit",
   "metadata": {
    "interpreter": {
     "hash": "1f9cc8cd99bde4ad34d9e4c5506bdcfbd0680e8eab8faedc4eaff1ddda369bb1"
    }
   },
   "name": "python3"
  },
  "language_info": {
   "codemirror_mode": {
    "name": "ipython",
    "version": 3
   },
   "file_extension": ".py",
   "mimetype": "text/x-python",
   "name": "python",
   "nbconvert_exporter": "python",
   "pygments_lexer": "ipython3",
   "version": "3.11.3"
  },
  "orig_nbformat": 4
 },
 "nbformat": 4,
 "nbformat_minor": 2
}