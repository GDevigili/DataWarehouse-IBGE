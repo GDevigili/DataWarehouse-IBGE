{
  "nbformat": 4,
  "nbformat_minor": 0,
  "metadata": {
    "colab": {
      "provenance": [],
      "authorship_tag": "ABX9TyMMUuNd4zT+AHvlwbiFCCvM"
    },
    "kernelspec": {
      "name": "python3",
      "display_name": "Python 3"
    },
    "language_info": {
      "name": "python"
    }
  },
  "cells": [
    {
      "cell_type": "code",
      "execution_count": 17,
      "metadata": {
        "id": "HomBZD-nyEHr"
      },
      "outputs": [],
      "source": [
        "import requests\n",
        "import json\n",
        "import pandas as pd"
      ]
    },
    {
      "cell_type": "code",
      "source": [
        "url = \"https://servicodados.ibge.gov.br/api/v1/localidades/distritos\"\n",
        "request = requests.get(url)\n",
        "info = request.json()"
      ],
      "metadata": {
        "id": "gh-jUuGIyILp"
      },
      "execution_count": 3,
      "outputs": []
    },
    {
      "cell_type": "markdown",
      "source": [
        "Info é uma lista de dicionários que vem de `request.json()`"
      ],
      "metadata": {
        "id": "ZIfo0zpK6S2t"
      }
    },
    {
      "cell_type": "code",
      "source": [
        "info[:2]"
      ],
      "metadata": {
        "colab": {
          "base_uri": "https://localhost:8080/"
        },
        "id": "2dDraT1gyK1l",
        "outputId": "d1775b46-8ae6-49fb-8981-e8c23e6fd362"
      },
      "execution_count": 7,
      "outputs": [
        {
          "output_type": "execute_result",
          "data": {
            "text/plain": [
              "[{'id': 520005005,\n",
              "  'nome': 'Abadia de Goiás',\n",
              "  'municipio': {'id': 5200050,\n",
              "   'nome': 'Abadia de Goiás',\n",
              "   'microrregiao': {'id': 52010,\n",
              "    'nome': 'Goiânia',\n",
              "    'mesorregiao': {'id': 5203,\n",
              "     'nome': 'Centro Goiano',\n",
              "     'UF': {'id': 52,\n",
              "      'sigla': 'GO',\n",
              "      'nome': 'Goiás',\n",
              "      'regiao': {'id': 5, 'sigla': 'CO', 'nome': 'Centro-Oeste'}}}},\n",
              "   'regiao-imediata': {'id': 520001,\n",
              "    'nome': 'Goiânia',\n",
              "    'regiao-intermediaria': {'id': 5201,\n",
              "     'nome': 'Goiânia',\n",
              "     'UF': {'id': 52,\n",
              "      'sigla': 'GO',\n",
              "      'nome': 'Goiás',\n",
              "      'regiao': {'id': 5, 'sigla': 'CO', 'nome': 'Centro-Oeste'}}}}}},\n",
              " {'id': 310010405,\n",
              "  'nome': 'Abadia dos Dourados',\n",
              "  'municipio': {'id': 3100104,\n",
              "   'nome': 'Abadia dos Dourados',\n",
              "   'microrregiao': {'id': 31019,\n",
              "    'nome': 'Patrocínio',\n",
              "    'mesorregiao': {'id': 3105,\n",
              "     'nome': 'Triângulo Mineiro/Alto Paranaíba',\n",
              "     'UF': {'id': 31,\n",
              "      'sigla': 'MG',\n",
              "      'nome': 'Minas Gerais',\n",
              "      'regiao': {'id': 3, 'sigla': 'SE', 'nome': 'Sudeste'}}}},\n",
              "   'regiao-imediata': {'id': 310061,\n",
              "    'nome': 'Monte Carmelo',\n",
              "    'regiao-intermediaria': {'id': 3111,\n",
              "     'nome': 'Uberlândia',\n",
              "     'UF': {'id': 31,\n",
              "      'sigla': 'MG',\n",
              "      'nome': 'Minas Gerais',\n",
              "      'regiao': {'id': 3, 'sigla': 'SE', 'nome': 'Sudeste'}}}}}}]"
            ]
          },
          "metadata": {},
          "execution_count": 7
        }
      ]
    },
    {
      "cell_type": "code",
      "source": [
        "info[0]"
      ],
      "metadata": {
        "id": "lbzB9-4lyRIp",
        "colab": {
          "base_uri": "https://localhost:8080/"
        },
        "outputId": "3169df87-3b36-4ed1-be5b-e397dacc5191"
      },
      "execution_count": 5,
      "outputs": [
        {
          "output_type": "execute_result",
          "data": {
            "text/plain": [
              "{'id': 520005005,\n",
              " 'nome': 'Abadia de Goiás',\n",
              " 'municipio': {'id': 5200050,\n",
              "  'nome': 'Abadia de Goiás',\n",
              "  'microrregiao': {'id': 52010,\n",
              "   'nome': 'Goiânia',\n",
              "   'mesorregiao': {'id': 5203,\n",
              "    'nome': 'Centro Goiano',\n",
              "    'UF': {'id': 52,\n",
              "     'sigla': 'GO',\n",
              "     'nome': 'Goiás',\n",
              "     'regiao': {'id': 5, 'sigla': 'CO', 'nome': 'Centro-Oeste'}}}},\n",
              "  'regiao-imediata': {'id': 520001,\n",
              "   'nome': 'Goiânia',\n",
              "   'regiao-intermediaria': {'id': 5201,\n",
              "    'nome': 'Goiânia',\n",
              "    'UF': {'id': 52,\n",
              "     'sigla': 'GO',\n",
              "     'nome': 'Goiás',\n",
              "     'regiao': {'id': 5, 'sigla': 'CO', 'nome': 'Centro-Oeste'}}}}}}"
            ]
          },
          "metadata": {},
          "execution_count": 5
        }
      ]
    },
    {
      "cell_type": "markdown",
      "source": [
        "Existem localidades repetidas, necessário limpeza disso"
      ],
      "metadata": {
        "id": "QXqbpeY56r3c"
      }
    },
    {
      "cell_type": "code",
      "source": [
        "for i in range(5):\n",
        "  print(info[i]['municipio'])"
      ],
      "metadata": {
        "colab": {
          "base_uri": "https://localhost:8080/"
        },
        "id": "MSCKdRWu38AI",
        "outputId": "40845422-a8d2-44ef-ebf7-3b3ffcc7190b"
      },
      "execution_count": 16,
      "outputs": [
        {
          "output_type": "stream",
          "name": "stdout",
          "text": [
            "{'id': 5200050, 'nome': 'Abadia de Goiás', 'microrregiao': {'id': 52010, 'nome': 'Goiânia', 'mesorregiao': {'id': 5203, 'nome': 'Centro Goiano', 'UF': {'id': 52, 'sigla': 'GO', 'nome': 'Goiás', 'regiao': {'id': 5, 'sigla': 'CO', 'nome': 'Centro-Oeste'}}}}, 'regiao-imediata': {'id': 520001, 'nome': 'Goiânia', 'regiao-intermediaria': {'id': 5201, 'nome': 'Goiânia', 'UF': {'id': 52, 'sigla': 'GO', 'nome': 'Goiás', 'regiao': {'id': 5, 'sigla': 'CO', 'nome': 'Centro-Oeste'}}}}}\n",
            "{'id': 3100104, 'nome': 'Abadia dos Dourados', 'microrregiao': {'id': 31019, 'nome': 'Patrocínio', 'mesorregiao': {'id': 3105, 'nome': 'Triângulo Mineiro/Alto Paranaíba', 'UF': {'id': 31, 'sigla': 'MG', 'nome': 'Minas Gerais', 'regiao': {'id': 3, 'sigla': 'SE', 'nome': 'Sudeste'}}}}, 'regiao-imediata': {'id': 310061, 'nome': 'Monte Carmelo', 'regiao-intermediaria': {'id': 3111, 'nome': 'Uberlândia', 'UF': {'id': 31, 'sigla': 'MG', 'nome': 'Minas Gerais', 'regiao': {'id': 3, 'sigla': 'SE', 'nome': 'Sudeste'}}}}}\n",
            "{'id': 5200100, 'nome': 'Abadiânia', 'microrregiao': {'id': 52012, 'nome': 'Entorno de Brasília', 'mesorregiao': {'id': 5204, 'nome': 'Leste Goiano', 'UF': {'id': 52, 'sigla': 'GO', 'nome': 'Goiás', 'regiao': {'id': 5, 'sigla': 'CO', 'nome': 'Centro-Oeste'}}}}, 'regiao-imediata': {'id': 520002, 'nome': 'Anápolis', 'regiao-intermediaria': {'id': 5201, 'nome': 'Goiânia', 'UF': {'id': 52, 'sigla': 'GO', 'nome': 'Goiás', 'regiao': {'id': 5, 'sigla': 'CO', 'nome': 'Centro-Oeste'}}}}}\n",
            "{'id': 5200100, 'nome': 'Abadiânia', 'microrregiao': {'id': 52012, 'nome': 'Entorno de Brasília', 'mesorregiao': {'id': 5204, 'nome': 'Leste Goiano', 'UF': {'id': 52, 'sigla': 'GO', 'nome': 'Goiás', 'regiao': {'id': 5, 'sigla': 'CO', 'nome': 'Centro-Oeste'}}}}, 'regiao-imediata': {'id': 520002, 'nome': 'Anápolis', 'regiao-intermediaria': {'id': 5201, 'nome': 'Goiânia', 'UF': {'id': 52, 'sigla': 'GO', 'nome': 'Goiás', 'regiao': {'id': 5, 'sigla': 'CO', 'nome': 'Centro-Oeste'}}}}}\n",
            "{'id': 3100203, 'nome': 'Abaeté', 'microrregiao': {'id': 31024, 'nome': 'Três Marias', 'mesorregiao': {'id': 3106, 'nome': 'Central Mineira', 'UF': {'id': 31, 'sigla': 'MG', 'nome': 'Minas Gerais', 'regiao': {'id': 3, 'sigla': 'SE', 'nome': 'Sudeste'}}}}, 'regiao-imediata': {'id': 310070, 'nome': 'Abaeté', 'regiao-intermediaria': {'id': 3113, 'nome': 'Divinópolis', 'UF': {'id': 31, 'sigla': 'MG', 'nome': 'Minas Gerais', 'regiao': {'id': 3, 'sigla': 'SE', 'nome': 'Sudeste'}}}}}\n"
          ]
        }
      ]
    },
    {
      "cell_type": "code",
      "source": [
        "m_ = info[0]"
      ],
      "metadata": {
        "id": "igHAHsBU72ef"
      },
      "execution_count": 33,
      "outputs": []
    },
    {
      "cell_type": "code",
      "source": [
        "m_['municipio'].keys()"
      ],
      "metadata": {
        "colab": {
          "base_uri": "https://localhost:8080/"
        },
        "id": "zzD57M9A8YI8",
        "outputId": "88ac55fc-a3b8-4238-f920-88dc869d35b6"
      },
      "execution_count": 28,
      "outputs": [
        {
          "output_type": "execute_result",
          "data": {
            "text/plain": [
              "dict_keys(['id', 'nome', 'microrregiao', 'regiao-imediata'])"
            ]
          },
          "metadata": {},
          "execution_count": 28
        }
      ]
    },
    {
      "cell_type": "code",
      "source": [
        "df = pd.DataFrame()"
      ],
      "metadata": {
        "id": "ljMnG94p76Vz"
      },
      "execution_count": 22,
      "outputs": []
    },
    {
      "cell_type": "code",
      "source": [
        "def unpack_json(json_dict, line = {}, parent_col = ''):\n",
        "  \"\"\"\n",
        "    Make a documentation (how I wish colab had copilot :/ )\n",
        "  \"\"\"\n",
        "  # Iterate over the \n",
        "  for key in json_dict:\n",
        "    if type(json_dict[key]) == dict:\n",
        "      unpack_json(json_dict[key], line = line, parent_col = key)\n",
        "    else:\n",
        "      col_name = ''\n",
        "      if parent_col == '':\n",
        "        key_name = str(parent_col) + str(key)\n",
        "      else:\n",
        "        key_name = str(parent_col) + '_' + str(key)\n",
        "      line[key_name] = json_dict[key]\n",
        "  return line\n",
        "\n",
        "unpack_json(m_)"
      ],
      "metadata": {
        "colab": {
          "base_uri": "https://localhost:8080/"
        },
        "id": "llZH29LK8PKz",
        "outputId": "1a62ddbc-cd61-49d3-9eda-dcef7b2ad211"
      },
      "execution_count": 66,
      "outputs": [
        {
          "output_type": "execute_result",
          "data": {
            "text/plain": [
              "{'id': 520005005,\n",
              " 'nome': 'Abadia de Goiás',\n",
              " 'municipio_id': 5200050,\n",
              " 'municipio_nome': 'Abadia de Goiás',\n",
              " 'microrregiao_id': 52010,\n",
              " 'microrregiao_nome': 'Goiânia',\n",
              " 'mesorregiao_id': 5203,\n",
              " 'mesorregiao_nome': 'Centro Goiano',\n",
              " 'UF_id': 52,\n",
              " 'UF_sigla': 'GO',\n",
              " 'UF_nome': 'Goiás',\n",
              " 'regiao_id': 5,\n",
              " 'regiao_sigla': 'CO',\n",
              " 'regiao_nome': 'Centro-Oeste',\n",
              " 'regiao-imediata_id': 520001,\n",
              " 'regiao-imediata_nome': 'Goiânia',\n",
              " 'regiao-intermediaria_id': 5201,\n",
              " 'regiao-intermediaria_nome': 'Goiânia'}"
            ]
          },
          "metadata": {},
          "execution_count": 66
        }
      ]
    },
    {
      "cell_type": "code",
      "source": [
        "type(m_['municipio'])"
      ],
      "metadata": {
        "colab": {
          "base_uri": "https://localhost:8080/"
        },
        "id": "YW0D5oJxJduH",
        "outputId": "2962e68e-2d9f-4bdd-fcfc-8ae896f8bfd6"
      },
      "execution_count": 53,
      "outputs": [
        {
          "output_type": "execute_result",
          "data": {
            "text/plain": [
              "dict"
            ]
          },
          "metadata": {},
          "execution_count": 53
        }
      ]
    },
    {
      "cell_type": "code",
      "source": [
        "recursive_df(m_['municipio']['microrregiao'])"
      ],
      "metadata": {
        "colab": {
          "base_uri": "https://localhost:8080/"
        },
        "id": "Su-JNDusLeqE",
        "outputId": "ba4fd6aa-8f64-485b-8453-948fe7deef25"
      },
      "execution_count": 56,
      "outputs": [
        {
          "output_type": "execute_result",
          "data": {
            "text/plain": [
              "{'_id': 52010, '_nome': 'Goiânia'}"
            ]
          },
          "metadata": {},
          "execution_count": 56
        }
      ]
    },
    {
      "cell_type": "code",
      "source": [
        "m_"
      ],
      "metadata": {
        "colab": {
          "base_uri": "https://localhost:8080/"
        },
        "id": "nrNmNmdcMokV",
        "outputId": "b50b0dad-817c-4aec-fd24-5e0e7b33401e"
      },
      "execution_count": 55,
      "outputs": [
        {
          "output_type": "execute_result",
          "data": {
            "text/plain": [
              "{'id': 520005005,\n",
              " 'nome': 'Abadia de Goiás',\n",
              " 'municipio': {'id': 5200050,\n",
              "  'nome': 'Abadia de Goiás',\n",
              "  'microrregiao': {'id': 52010,\n",
              "   'nome': 'Goiânia',\n",
              "   'mesorregiao': {'id': 5203,\n",
              "    'nome': 'Centro Goiano',\n",
              "    'UF': {'id': 52,\n",
              "     'sigla': 'GO',\n",
              "     'nome': 'Goiás',\n",
              "     'regiao': {'id': 5, 'sigla': 'CO', 'nome': 'Centro-Oeste'}}}},\n",
              "  'regiao-imediata': {'id': 520001,\n",
              "   'nome': 'Goiânia',\n",
              "   'regiao-intermediaria': {'id': 5201,\n",
              "    'nome': 'Goiânia',\n",
              "    'UF': {'id': 52,\n",
              "     'sigla': 'GO',\n",
              "     'nome': 'Goiás',\n",
              "     'regiao': {'id': 5, 'sigla': 'CO', 'nome': 'Centro-Oeste'}}}}}}"
            ]
          },
          "metadata": {},
          "execution_count": 55
        }
      ]
    },
    {
      "cell_type": "code",
      "source": [],
      "metadata": {
        "id": "MxWOQ7IkMruT"
      },
      "execution_count": null,
      "outputs": []
    }
  ]
}